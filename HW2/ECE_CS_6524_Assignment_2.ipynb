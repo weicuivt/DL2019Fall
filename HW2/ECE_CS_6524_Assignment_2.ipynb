{
  "nbformat": 4,
  "nbformat_minor": 0,
  "metadata": {
    "kernelspec": {
      "display_name": "Python 3",
      "language": "python",
      "name": "python3"
    },
    "language_info": {
      "codemirror_mode": {
        "name": "ipython",
        "version": 3
      },
      "file_extension": ".py",
      "mimetype": "text/x-python",
      "name": "python",
      "nbconvert_exporter": "python",
      "pygments_lexer": "ipython3",
      "version": "3.7.4"
    },
    "colab": {
      "name": "ECE-CS 6524 - Assignment 2.ipynb",
      "provenance": [],
      "include_colab_link": true
    }
  },
  "cells": [
    {
      "cell_type": "markdown",
      "metadata": {
        "id": "view-in-github",
        "colab_type": "text"
      },
      "source": [
        "<a href=\"https://colab.research.google.com/github/weicuivt/DL2019Fall/blob/master/HW2/ECE_CS_6524_Assignment_2.ipynb\" target=\"_parent\"><img src=\"https://colab.research.google.com/assets/colab-badge.svg\" alt=\"Open In Colab\"/></a>"
      ]
    },
    {
      "cell_type": "markdown",
      "metadata": {
        "id": "zyTH9M3GLDDu",
        "colab_type": "text"
      },
      "source": [
        "# ECE-6524 / CS-6524 Deep Learning\n",
        "# Assignment 2\n",
        "\n",
        "In this assignment, **you need to complete the following three sectoins**:\n",
        "1. PyTorch Basics\n",
        "    - Toy example with PyTorch\n",
        "2. Image Classification with PyTorch\n",
        "    - Implement a simple MLP network for image classification\n",
        "    - Implement a convolutional network for image classification\n",
        "    - Experiment with different numbers of layers and optimizers\n",
        "    - Push the performance of your CNN\n",
        "\n",
        "This assignment is inspired and adopted from the official PyTorch tutorial.\n",
        "## Submission guideline\n",
        "\n",
        "1. Click the Save button at the top of the Jupyter Notebook.\n",
        "2. Please make sure to have entered your Virginia Tech PID below.\n",
        "3. Select Cell -> All Output -> Clear. This will clear all the outputs from all cells (but will keep the content of cells).\n",
        "4. Select Cell -> Run All. This will run all the cells in order.\n",
        "5. Once you've rerun everything, select File -> Download as -> PDF via LaTeX\n",
        "6. Look at the PDF file and make sure all your solutions are displayed correctly there. \n",
        "7. Zip the all the files along with this notebook (Please don't include the data)\n",
        "8. Name your PDF file as Assignment2_[YOUR ID NUMBER].\n",
        "9. Submit your zipped file and the PDF **INDEPENDENTLY**.\n",
        "\n",
        "**While you are encouraged to discuss with your peers, <span style=\"color:blue\">all work submitted is expected to be your own.</span> <span style=\"color:red\">If you use any information from other resources (e.g. online materials), you are required to cite it below you VT PID. Any violation will result in a 0 mark for the assignment.</span>**"
      ]
    },
    {
      "cell_type": "markdown",
      "metadata": {
        "id": "HVIPVc7DLDDx",
        "colab_type": "text"
      },
      "source": [
        "### Please Write Your VT PID Here: 905808996\n",
        "### Reference (if any):"
      ]
    },
    {
      "cell_type": "markdown",
      "metadata": {
        "id": "MLVokOpHLDDy",
        "colab_type": "text"
      },
      "source": [
        "In this homework, you would need to use **Python 3.6+** along with the following packages:\n",
        "```\n",
        "1. pytorch 1.2\n",
        "2. torchvision\n",
        "3. numpy\n",
        "4. matplotlib\n",
        "```\n",
        "To install pytorch, please follow the instructions on the [Official website](https://pytorch.org/). In addition, the [official document](https://pytorch.org/docs/stable/) could be very helpful when you want to find certain functionalities. \n",
        "\n"
      ]
    },
    {
      "cell_type": "code",
      "metadata": {
        "id": "Nk075vWFjtiK",
        "colab_type": "code",
        "colab": {
          "base_uri": "https://localhost:8080/",
          "height": 68
        },
        "outputId": "42fe6334-01eb-4c9a-c397-5e5d95a20778"
      },
      "source": [
        "from google.colab import drive\n",
        "drive.mount('/content/drive')\n",
        "%cd /content/drive/My Drive/Colab Notebooks/Assignment_2\n",
        "!ls"
      ],
      "execution_count": null,
      "outputs": [
        {
          "output_type": "stream",
          "text": [
            "Drive already mounted at /content/drive; to attempt to forcibly remount, call drive.mount(\"/content/drive\", force_remount=True).\n",
            "/content/drive/My Drive/Colab Notebooks/Assignment_2\n",
            " Assignment2_905808996.zip   data  'ECE-CS 6524 - Assignment 2.ipynb'\n"
          ],
          "name": "stdout"
        }
      ]
    },
    {
      "cell_type": "markdown",
      "metadata": {
        "id": "clwk7m-qLDDz",
        "colab_type": "text"
      },
      "source": [
        "# Section 1. PyTorch Basics [30 pts]"
      ]
    },
    {
      "cell_type": "markdown",
      "metadata": {
        "id": "DpXg2lBiLDD0",
        "colab_type": "text"
      },
      "source": [
        "Simply put, PyTorch is a **Tensor** library like Numpy. These two libraries similarly provide useful and efficient APIs for you to deal with your tensor data. What really differentiate PyTorch from Numpy are the following two features:\n",
        "1. Numerical operations that can **run on GPUs** (more than 10x speedup)\n",
        "2. Automatic differentiation for building and training neural networks\n",
        "\n",
        "In this section, we will walk through some simple example, and see how the automatic differentiation functionality can make your life much easier."
      ]
    },
    {
      "cell_type": "markdown",
      "metadata": {
        "id": "o8r9ki1rLDD1",
        "colab_type": "text"
      },
      "source": [
        "## 1.1. Automatic Differentiation\n",
        "Gradient descent is the driving force of the deep learning field. In the lectures and assignment 1, we learned how to derive the gradient for a given function, and implement methods for calculating and performing gradient descents. We also see how we can manually implement the backward and forward functions for the simple NN example. While implementing these functions may not be a big deal for a small network, it may get very nasty when we want to build something with tens of hundreds of layers.\n",
        "\n",
        "In PyTorch (as well as other major deep learning libraries), we can use autograd ([automatic differentiation](https://en.wikipedia.org/wiki/Automatic_differentiation)) to handle the tedious computation of backward passes. When doing forward passes with autograd, we are essentially defining a **computational graph**, while the nodes in the graph are **tensors**, the edges are the functions that produce output tensors (e.g. ReLU, Linear, Convolutional Layer) given the input tensors. To do backpropagation, we can simply backtrack through this graph to compute gradients. \n",
        "\n",
        "This may sound a little bit abstract, so let's take a look at the example:"
      ]
    },
    {
      "cell_type": "code",
      "metadata": {
        "id": "1RlBk-mULDD2",
        "colab_type": "code",
        "colab": {
          "base_uri": "https://localhost:8080/",
          "height": 204
        },
        "outputId": "655518d2-7f24-41a6-a22f-da2b5049ff91"
      },
      "source": [
        "import torch # import pytorch.\n",
        "\n",
        "target = 10.\n",
        "\n",
        "# create a matrix of size 2x2. Each with value draws from standard normal distribution.\n",
        "x = torch.randn(2, 2, requires_grad=True) \n",
        "y = torch.randn(2, 2, requires_grad=True)\n",
        "\n",
        "a = x + y\n",
        "b = a.sum()\n",
        "loss = b - target\n",
        "\n",
        "# print out each tensor:\n",
        "print(x)\n",
        "print(y)\n",
        "print(a)\n",
        "print(b)\n",
        "print(loss)\n",
        "\n",
        "print(\"-----gradient-----\")\n",
        "print(x.grad)\n",
        "print(y.grad)"
      ],
      "execution_count": null,
      "outputs": [
        {
          "output_type": "stream",
          "text": [
            "tensor([[-0.6025, -0.6463],\n",
            "        [-0.1990,  0.5098]], requires_grad=True)\n",
            "tensor([[-0.4679, -0.8833],\n",
            "        [-1.7347, -0.5699]], requires_grad=True)\n",
            "tensor([[-1.0704, -1.5295],\n",
            "        [-1.9337, -0.0601]], grad_fn=<AddBackward0>)\n",
            "tensor(-4.5937, grad_fn=<SumBackward0>)\n",
            "tensor(-14.5937, grad_fn=<SubBackward0>)\n",
            "-----gradient-----\n",
            "None\n",
            "None\n"
          ],
          "name": "stdout"
        }
      ]
    },
    {
      "cell_type": "markdown",
      "metadata": {
        "id": "diO6ImgPLDD6",
        "colab_type": "text"
      },
      "source": [
        "In the above example, we have seen a few things:\n",
        "1. `requires_grad` flag: If false, we can safely exclude this tensor (and its subgraph) from gradient computation and therefore increase efficiency.\n",
        "2. `grad_fn`: we can see that once an operation is done to a tensor, the output tensor is bound to a backward function associated to the operation. In this case, we have Add, Sum, and Sub.\n",
        "\n",
        "However, even if we set `requires_grad=True`, we still don't have gradient for `x` and `y`. This is because that we haven't performed the backpropagation yet. So let's do it:"
      ]
    },
    {
      "cell_type": "code",
      "metadata": {
        "id": "cro5AVHeLDD7",
        "colab_type": "code",
        "colab": {
          "base_uri": "https://localhost:8080/",
          "height": 102
        },
        "outputId": "10354d25-0a9a-4418-bd4e-f5c875dfb788"
      },
      "source": [
        "# perform backpropagation from this \"node\"\n",
        "loss.backward()\n",
        "print('-----gradient-----')\n",
        "print(x.grad)\n",
        "print(y.grad)"
      ],
      "execution_count": null,
      "outputs": [
        {
          "output_type": "stream",
          "text": [
            "-----gradient-----\n",
            "tensor([[1., 1.],\n",
            "        [1., 1.]])\n",
            "tensor([[1., 1.],\n",
            "        [1., 1.]])\n"
          ],
          "name": "stdout"
        }
      ]
    },
    {
      "cell_type": "markdown",
      "metadata": {
        "id": "aXydmGAYLDD9",
        "colab_type": "text"
      },
      "source": [
        "Great, seems like we can perform gradient descent without writing backwards function! Now, let's see a simple toy example on how we can fit some weights `w1` and `w2` with random input `x` and target `y`: "
      ]
    },
    {
      "cell_type": "code",
      "metadata": {
        "id": "n5dyXijGLDD-",
        "colab_type": "code",
        "colab": {
          "base_uri": "https://localhost:8080/",
          "height": 102
        },
        "outputId": "6c127050-41cc-4f2c-a4b0-53e8a56e8435"
      },
      "source": [
        "dtype = torch.float\n",
        "device = torch.device(\"cpu\")\n",
        "# device = torch.device(\"cuda:0\") # Uncomment this to run on GPU\n",
        "\n",
        "# N is batch size; D_in is input dimension;\n",
        "# H is hidden dimension; D_out is output dimension.\n",
        "N, D_in, H, D_out = 64, 1000, 100, 10\n",
        "\n",
        "# Create random Tensors to hold input and outputs.\n",
        "# Setting requires_grad=False indicates that we do not need to compute gradients\n",
        "# with respect to these Tensors during the backward pass.\n",
        "x = torch.randn(N, D_in, device=device, dtype=dtype)\n",
        "y = torch.randn(N, D_out, device=device, dtype=dtype)\n",
        "\n",
        "# Create random Tensors for weights.\n",
        "# Setting requires_grad=True indicates that we want to compute gradients with\n",
        "# respect to these Tensors during the backward pass.\n",
        "w1 = torch.randn(D_in, H, device=device, dtype=dtype, requires_grad=True)\n",
        "w2 = torch.randn(H, D_out, device=device, dtype=dtype, requires_grad=True)\n",
        "\n",
        "learning_rate = 1e-6\n",
        "for t in range(500):\n",
        "    # Forward pass: compute predicted y using operations on Tensors; these\n",
        "    # are exactly the same operations we used to compute the forward pass using\n",
        "    # Tensors, but we do not need to keep references to intermediate values since\n",
        "    # we are not implementing the backward pass by hand.\n",
        "    y_pred = x.mm(w1).clamp(min=0).mm(w2)\n",
        "\n",
        "    # Compute and print loss using operations on Tensors.\n",
        "    # Now loss is a Tensor of shape (1,)\n",
        "    # loss.item() gets the scalar value held in the loss.\n",
        "    loss = (y_pred - y).pow(2).sum()\n",
        "    if t % 100 == 99:\n",
        "        print(f'iteration {t}: {loss.item()}')\n",
        "    # Use autograd to compute the backward pass. This call will compute the\n",
        "    # gradient of loss with respect to all Tensors with requires_grad=True.\n",
        "    # After this call w1.grad and w2.grad will be Tensors holding the gradient\n",
        "    # of the loss with respect to w1 and w2 respectively.\n",
        "    loss.backward()\n",
        "\n",
        "    # Manually update weights using gradient descent. Wrap in torch.no_grad()\n",
        "    # because weights have requires_grad=True, but we don't need to track this\n",
        "    # in autograd.  (because we don't need the gradient for the operation \n",
        "    # learning_rate * w1.grad)\n",
        "    # An alternative way is to operate on weight.data and weight.grad.data.\n",
        "    # Recall that tensor.data gives a tensor that shares the storage with\n",
        "    # tensor, but doesn't track history.\n",
        "    # You can also use torch.optim.SGD to achieve this.\n",
        "    with torch.no_grad():\n",
        "        w1 -= learning_rate * w1.grad\n",
        "        w2 -= learning_rate * w2.grad\n",
        "\n",
        "        # Manually zero the gradients after updating weights\n",
        "        w1.grad.zero_()\n",
        "        w2.grad.zero_()"
      ],
      "execution_count": null,
      "outputs": [
        {
          "output_type": "stream",
          "text": [
            "iteration 99: 871.6419677734375\n",
            "iteration 199: 9.039835929870605\n",
            "iteration 299: 0.12880882620811462\n",
            "iteration 399: 0.002259192056953907\n",
            "iteration 499: 0.00016256274830084294\n"
          ],
          "name": "stdout"
        }
      ]
    },
    {
      "cell_type": "markdown",
      "metadata": {
        "id": "3kn7GqA3LDEB",
        "colab_type": "text"
      },
      "source": [
        "## 1.2. `nn` Module\n",
        "Computational graphs and autograd are a very powerful paradigm for defining complex operators and automatically taking derivatives; however for large neural networks raw autograd can be a bit too low-level.\n",
        "\n",
        "When building neural networks we frequently think of arranging the computation into layers, some of which have learnable parameters which will be optimized during learning.\n",
        "\n",
        "In PyTorch, the nn package serves this purpose. The nn package defines a set of Modules, which are roughly equivalent to neural network layers. A Module receives input Tensors and computes output Tensors, but may also hold internal state such as Tensors containing learnable parameters. The nn package also defines a set of useful loss functions that are commonly used when training neural networks.\n",
        "\n",
        "Now, let's see how our simple NN could be implemented using the nn module."
      ]
    },
    {
      "cell_type": "code",
      "metadata": {
        "id": "WeoJOYfaLDEB",
        "colab_type": "code",
        "colab": {
          "base_uri": "https://localhost:8080/",
          "height": 102
        },
        "outputId": "9f52d9a2-2798-4368-a8dc-44e85f0ae7e8"
      },
      "source": [
        "import torch.nn as nn\n",
        "# N is batch size; D_in is input dimension;\n",
        "# H is hidden dimension; D_out is output dimension.\n",
        "N, D_in, H, D_out = 64, 1000, 100, 10\n",
        "\n",
        "# Create random Tensors to hold inputs and outputs\n",
        "x = torch.randn(N, D_in)\n",
        "y = torch.randn(N, D_out)\n",
        "\n",
        "# Use the nn package to define our model as a sequence of layers. nn.Sequential\n",
        "# is a Module which contains other Modules, and applies them in sequence to\n",
        "# produce its output. Each Linear Module computes output from input using a\n",
        "# linear function, and holds internal Tensors for its weight and bias.\n",
        "model = nn.Sequential(\n",
        "    nn.Linear(D_in, H),\n",
        "    nn.ReLU(),\n",
        "    nn.Linear(H, D_out),\n",
        ")\n",
        "\n",
        "# The nn package also contains definitions of popular loss functions; in this\n",
        "# case we will use Mean Squared Error (MSE) as our loss function.\n",
        "loss_fn = nn.MSELoss(reduction='sum')\n",
        "\n",
        "learning_rate = 1e-4\n",
        "for t in range(500):\n",
        "    # Forward pass: compute predicted y by passing x to the model. Module objects\n",
        "    # override the __call__ operator so you can call them like functions. When\n",
        "    # doing so you pass a Tensor of input data to the Module and it produces\n",
        "    # a Tensor of output data.\n",
        "    y_pred = model(x)\n",
        "\n",
        "    # Compute and print loss. We pass Tensors containing the predicted and true\n",
        "    # values of y, and the loss function returns a Tensor containing the\n",
        "    # loss.\n",
        "    loss = loss_fn(y_pred, y)\n",
        "    if t % 100 == 99:\n",
        "        print(f'iteration {t}: {loss.item()}')\n",
        "\n",
        "    # Zero the gradients before running the backward pass.\n",
        "    model.zero_grad()\n",
        "\n",
        "    # Backward pass: compute gradient of the loss with respect to all the learnable\n",
        "    # parameters of the model. Internally, the parameters of each Module are stored\n",
        "    # in Tensors with requires_grad=True, so this call will compute gradients for\n",
        "    # all learnable parameters in the model.\n",
        "    loss.backward()\n",
        "\n",
        "    # Update the weights using gradient descent. Each parameter is a Tensor, so\n",
        "    # we can access its gradients like we did before.\n",
        "    with torch.no_grad():\n",
        "        for param in model.parameters():\n",
        "            param -= learning_rate * param.grad"
      ],
      "execution_count": null,
      "outputs": [
        {
          "output_type": "stream",
          "text": [
            "iteration 99: 2.681800127029419\n",
            "iteration 199: 0.0444968044757843\n",
            "iteration 299: 0.0013897938188165426\n",
            "iteration 399: 5.530680937226862e-05\n",
            "iteration 499: 2.3638890525035094e-06\n"
          ],
          "name": "stdout"
        }
      ]
    },
    {
      "cell_type": "markdown",
      "metadata": {
        "id": "u5Z1TyQ7LDEE",
        "colab_type": "text"
      },
      "source": [
        "So far, we have been updating the model parameters manually with `torch.no_grad()`. However, if we want to use optimization algorithms other than SGD, it might get a bit nasty to do it manually. Instead of manually doing this, we can use `optim` pacakge to help optimize our model: "
      ]
    },
    {
      "cell_type": "code",
      "metadata": {
        "id": "rw8M5VI2fSCx",
        "colab_type": "code",
        "colab": {
          "base_uri": "https://localhost:8080/",
          "height": 102
        },
        "outputId": "b86de974-0b3a-4816-8725-6dc066263466"
      },
      "source": [
        "x = torch.randn(5,3)\n",
        "print(x)"
      ],
      "execution_count": null,
      "outputs": [
        {
          "output_type": "stream",
          "text": [
            "tensor([[-0.7430, -0.0024,  0.2844],\n",
            "        [ 1.9516,  0.5675,  2.3156],\n",
            "        [ 0.6972, -1.4555,  2.1397],\n",
            "        [-1.6965,  0.0881,  0.1323],\n",
            "        [ 1.5326,  0.6526,  0.8175]])\n"
          ],
          "name": "stdout"
        }
      ]
    },
    {
      "cell_type": "code",
      "metadata": {
        "id": "e8MMlExrLDEF",
        "colab_type": "code",
        "colab": {
          "base_uri": "https://localhost:8080/",
          "height": 102
        },
        "outputId": "b1a4d155-7ed6-4710-9dea-9044213a4fd6"
      },
      "source": [
        "N, D_in, H, D_out = 64, 1000, 100, 10\n",
        "\n",
        "# Create random Tensors to hold inputs and outputs\n",
        "x = torch.randn(N, D_in)\n",
        "y = torch.randn(N, D_out)\n",
        "\n",
        "# Use the nn package to define our model and loss function.\n",
        "model = nn.Sequential(\n",
        "    nn.Linear(D_in, H),\n",
        "    nn.ReLU(),\n",
        "    nn.Linear(H, D_out),\n",
        ")\n",
        "loss_fn = torch.nn.MSELoss(reduction='sum')\n",
        "\n",
        "# Use the optim package to define an Optimizer that will update the weights of\n",
        "# the model for us. \n",
        "learning_rate = 1e-4\n",
        "optimizer = torch.optim.SGD(model.parameters(), lr=learning_rate)\n",
        "for t in range(500):\n",
        "    # Forward pass: compute predicted y by passing x to the model.\n",
        "    y_pred = model(x)\n",
        "\n",
        "    # Compute and print loss.\n",
        "    loss = loss_fn(y_pred, y)\n",
        "    if t % 100 == 99:\n",
        "        print(f'iteration {t}: {loss.item()}')\n",
        "\n",
        "    # Before the backward pass, use the optimizer object to zero all of the\n",
        "    # gradients for the variables it will update (which are the learnable\n",
        "    # weights of the model). This is because by default, gradients are\n",
        "    # accumulated in buffers( i.e, not overwritten) whenever .backward()\n",
        "    # is called. Checkout docs of torch.autograd.backward for more details.\n",
        "    optimizer.zero_grad()\n",
        "\n",
        "    # Backward pass: compute gradient of the loss with respect to model\n",
        "    # parameters\n",
        "    loss.backward()\n",
        "\n",
        "    # Calling the step function on an Optimizer makes an update to its\n",
        "    # parameters\n",
        "    optimizer.step()"
      ],
      "execution_count": null,
      "outputs": [
        {
          "output_type": "stream",
          "text": [
            "iteration 99: 2.9050896167755127\n",
            "iteration 199: 0.05743909254670143\n",
            "iteration 299: 0.0017912393668666482\n",
            "iteration 399: 6.933413533261046e-05\n",
            "iteration 499: 3.028186938536237e-06\n"
          ],
          "name": "stdout"
        }
      ]
    },
    {
      "cell_type": "markdown",
      "metadata": {
        "id": "Rwq7ibZELDEH",
        "colab_type": "text"
      },
      "source": [
        "Sometimes you will want to specify models that are more complex than a sequence of existing Modules; for these cases you can define your own Modules by subclassing nn.Module and defining a forward which receives input Tensors and produces output Tensors using other modules or other autograd operations on Tensors.\n",
        "\n",
        "For example, we can implement our 2-layer simple NN as the following:"
      ]
    },
    {
      "cell_type": "code",
      "metadata": {
        "id": "h3OTxg94LDEI",
        "colab_type": "code",
        "colab": {
          "base_uri": "https://localhost:8080/",
          "height": 102
        },
        "outputId": "f0d6a0e3-9d48-4b8d-e6ed-994a699c80a1"
      },
      "source": [
        "class TwoLayerNet(nn.Module):\n",
        "    def __init__(self, D_in, H, D_out):\n",
        "        \"\"\"\n",
        "        In the constructor we instantiate two nn.Linear modules and assign them as\n",
        "        member variables.\n",
        "        \"\"\"\n",
        "        super(TwoLayerNet, self).__init__()\n",
        "        self.linear1 = nn.Linear(D_in, H)\n",
        "        self.linear2 = nn.Linear(H, D_out)\n",
        "\n",
        "    def forward(self, x):\n",
        "        \"\"\"\n",
        "        In the forward function we accept a Tensor of input data and we must return\n",
        "        a Tensor of output data. We can use Modules defined in the constructor as\n",
        "        well as arbitrary operators on Tensors.\n",
        "        \"\"\"\n",
        "        h_relu = self.linear1(x).clamp(min=0)\n",
        "        y_pred = self.linear2(h_relu)\n",
        "        return y_pred\n",
        "\n",
        "\n",
        "# N is batch size; D_in is input dimension;\n",
        "# H is hidden dimension; D_out is output dimension.\n",
        "N, D_in, H, D_out = 64, 1000, 100, 10\n",
        "\n",
        "# Create random Tensors to hold inputs and outputs\n",
        "x = torch.randn(N, D_in)\n",
        "y = torch.randn(N, D_out)\n",
        "\n",
        "# Construct our model by instantiating the class defined above\n",
        "model = TwoLayerNet(D_in, H, D_out)\n",
        "\n",
        "# Construct our loss function and an Optimizer. The call to model.parameters()\n",
        "# in the SGD constructor will contain the learnable parameters of the two\n",
        "# nn.Linear modules which are members of the model.\n",
        "criterion = nn.MSELoss(reduction='sum')\n",
        "optimizer = torch.optim.SGD(model.parameters(), lr=1e-4)\n",
        "for t in range(500):\n",
        "    # Forward pass: Compute predicted y by passing x to the model\n",
        "    y_pred = model(x)\n",
        "\n",
        "    # Compute and print loss\n",
        "    loss = criterion(y_pred, y)\n",
        "    if t % 100 == 99:\n",
        "        print(f'iteration {t}: {loss.item()}')\n",
        "\n",
        "    # Zero gradients, perform a backward pass, and update the weights.\n",
        "    optimizer.zero_grad()\n",
        "    loss.backward()\n",
        "    optimizer.step()"
      ],
      "execution_count": null,
      "outputs": [
        {
          "output_type": "stream",
          "text": [
            "iteration 99: 2.4881346225738525\n",
            "iteration 199: 0.035798005759716034\n",
            "iteration 299: 0.0009966156212612987\n",
            "iteration 399: 3.5246514016762376e-05\n",
            "iteration 499: 1.437473542864609e-06\n"
          ],
          "name": "stdout"
        }
      ]
    },
    {
      "cell_type": "markdown",
      "metadata": {
        "id": "-9C7w4U6LDEL",
        "colab_type": "text"
      },
      "source": [
        "## 1.3. Warm-up: Two-moon datasets [30 pts]\n",
        "Now, let's use PyTorch to solve some synthetic datasets. In previous assignment, we have to write some codes to create training batches. Again, this can also be done with PyTorch `DataLoader`. The `DataLoader` utilizes parallel workers to read and prepare batches for you, which can greatly speedup the code when your time bottleneck is on file I/O.\n",
        "\n",
        "Here, we show a simple example that can create a dataloader from numpy data:"
      ]
    },
    {
      "cell_type": "code",
      "metadata": {
        "id": "YqcZjrBvLDEM",
        "colab_type": "code",
        "colab": {
          "base_uri": "https://localhost:8080/",
          "height": 265
        },
        "outputId": "5819881d-2f7b-41e9-fa6a-11286cf4a4a4"
      },
      "source": [
        "import numpy as np\n",
        "import matplotlib.pyplot as plt\n",
        "\n",
        "X_train = np.loadtxt('data/X1_train.csv', delimiter=',')\n",
        "X_test = np.loadtxt('data/X1_test.csv', delimiter=',')\n",
        "y_train = np.loadtxt('data/y1_train.csv', delimiter=',')\n",
        "y_test = np.loadtxt('data/y1_test.csv', delimiter=',')\n",
        "\n",
        "# Plot it to see why is it called two-moon dataset\n",
        "plt.scatter(X_train[:, 0], X_train[:, 1], c=y_train);\n"
      ],
      "execution_count": null,
      "outputs": [
        {
          "output_type": "display_data",
          "data": {
            "image/png": "[encoded data removed]",
            "text/plain": [
              "<Figure size 432x288 with 1 Axes>"
            ]
          },
          "metadata": {
            "tags": []
          }
        }
      ]
    },
    {
      "cell_type": "markdown",
      "metadata": {
        "id": "1RQPU8gPLDEP",
        "colab_type": "text"
      },
      "source": [
        "Now, let's create a PyTorch `DataLoader`:"
      ]
    },
    {
      "cell_type": "code",
      "metadata": {
        "id": "Sdmcx1J4kAlz",
        "colab_type": "code",
        "colab": {
          "base_uri": "https://localhost:8080/",
          "height": 340
        },
        "outputId": "084e9295-5f4a-4fcf-b7ce-76f277ea2baf"
      },
      "source": [
        "X_train[1:20]"
      ],
      "execution_count": null,
      "outputs": [
        {
          "output_type": "execute_result",
          "data": {
            "text/plain": [
              "array([[ 2.89013901,  0.5816847 ],\n",
              "       [ 0.64305663, -0.23076991],\n",
              "       [ 2.2593771 ,  0.17801536],\n",
              "       [ 0.70935303, -0.24496862],\n",
              "       [ 2.52702369,  0.79073014],\n",
              "       [-0.1939462 ,  0.17343962],\n",
              "       [ 0.75113042, -0.68284778],\n",
              "       [ 0.52534017,  0.04206378],\n",
              "       [-0.2928505 ,  0.73368353],\n",
              "       [ 0.10902716,  0.76213182],\n",
              "       [ 1.26130092,  0.76238866],\n",
              "       [ 1.55024077, -0.49602774],\n",
              "       [-0.09640985,  0.11684894],\n",
              "       [-0.52536158,  0.23001757],\n",
              "       [-0.06270236,  1.15464036],\n",
              "       [ 1.02358656, -0.21639312],\n",
              "       [-1.25397045,  0.19121425],\n",
              "       [-1.04405948, -0.07309302],\n",
              "       [ 0.12562716,  1.00263207]])"
            ]
          },
          "metadata": {
            "tags": []
          },
          "execution_count": 25
        }
      ]
    },
    {
      "cell_type": "code",
      "metadata": {
        "id": "Z_fsEtCDkGT9",
        "colab_type": "code",
        "colab": {
          "base_uri": "https://localhost:8080/",
          "height": 51
        },
        "outputId": "8f5c644c-fc39-4a1c-b546-a87352100f7a"
      },
      "source": [
        "y_train[1:20]"
      ],
      "execution_count": null,
      "outputs": [
        {
          "output_type": "execute_result",
          "data": {
            "text/plain": [
              "array([1., 1., 1., 1., 1., 1., 1., 1., 0., 0., 0., 1., 1., 0., 0., 0., 0.,\n",
              "       0., 0.])"
            ]
          },
          "metadata": {
            "tags": []
          },
          "execution_count": 24
        }
      ]
    },
    {
      "cell_type": "code",
      "metadata": {
        "id": "5ClzQZjCkl7_",
        "colab_type": "code",
        "colab": {
          "base_uri": "https://localhost:8080/",
          "height": 306
        },
        "outputId": "f71f5fd5-3a8e-4cfe-acf1-b1d5befb9e38"
      },
      "source": [
        "train_dataset[1:10]"
      ],
      "execution_count": null,
      "outputs": [
        {
          "output_type": "execute_result",
          "data": {
            "text/plain": [
              "(tensor([[ 2.8901,  0.5817],\n",
              "         [ 0.6431, -0.2308],\n",
              "         [ 2.2594,  0.1780],\n",
              "         [ 0.7094, -0.2450],\n",
              "         [ 2.5270,  0.7907],\n",
              "         [-0.1939,  0.1734],\n",
              "         [ 0.7511, -0.6828],\n",
              "         [ 0.5253,  0.0421],\n",
              "         [-0.2929,  0.7337]]), tensor([[1],\n",
              "         [1],\n",
              "         [1],\n",
              "         [1],\n",
              "         [1],\n",
              "         [1],\n",
              "         [1],\n",
              "         [1],\n",
              "         [0]]))"
            ]
          },
          "metadata": {
            "tags": []
          },
          "execution_count": 27
        }
      ]
    },
    {
      "cell_type": "code",
      "metadata": {
        "id": "201CmQ6VLDEQ",
        "colab_type": "code",
        "colab": {}
      },
      "source": [
        "from torch.utils.data import TensorDataset, DataLoader\n",
        "batch_size = 64 # mini-batch size\n",
        "num_workers = 4 # how many parallel workers are we gonna use for reading data\n",
        "shuffle = True # shuffle the dataset\n",
        "\n",
        "# Convert numpy array import torch tensor\n",
        "X_train = torch.FloatTensor(X_train)\n",
        "X_test = torch.FloatTensor(X_test)\n",
        "y_train = torch.LongTensor(y_train.reshape(-1, 1))\n",
        "y_test = torch.LongTensor(y_test.reshape(-1, 1))\n",
        "\n",
        "# First, create a dataset from torch tensor. A dataset define how to read data\n",
        "# and process data for creating mini-batches.\n",
        "train_dataset = TensorDataset(X_train, y_train)\n",
        "train_loader = DataLoader(train_dataset, batch_size=batch_size, \n",
        "                          num_workers=num_workers, shuffle=shuffle)"
      ],
      "execution_count": null,
      "outputs": []
    },
    {
      "cell_type": "markdown",
      "metadata": {
        "id": "JRZFoX0gLDES",
        "colab_type": "text"
      },
      "source": [
        "Below, we provide a simple example on how to train your model with this dataloader:"
      ]
    },
    {
      "cell_type": "code",
      "metadata": {
        "id": "JnnGETw5LDET",
        "colab_type": "code",
        "colab": {},
        "outputId": "9d9249b0-008b-4658-f254-fab3a8b48678"
      },
      "source": [
        "epoch = 5 # an epoch means looping through all the data in the datasets\n",
        "lr = 1e-1\n",
        "\n",
        "# create a simple model that is probably not gonna work well\n",
        "model = nn.Linear(X_train.size(1), 1)\n",
        "optim = torch.optim.SGD(model.parameters(), lr=lr)\n",
        "\n",
        "for e in range(epoch):\n",
        "    loss_epoch = 0\n",
        "    # loop through train loader to get x and y\n",
        "    for x, y in train_loader:\n",
        "        optim.zero_grad()\n",
        "        y_pred = model(x)\n",
        "        # !!WARNING!!\n",
        "        # THIS IS A CLASSIFICATION TASK, SO YOU SHOULD NOT\n",
        "        # USE THIS LOSS FUNCTION. \n",
        "        loss = (y_pred - y.float()).abs().mean()\n",
        "        loss.backward()\n",
        "        optim.step()\n",
        "        loss_epoch += loss.item()\n",
        "    print(f'Epcoh {e}: {loss_epoch}')"
      ],
      "execution_count": null,
      "outputs": [
        {
          "output_type": "stream",
          "text": [
            "Epcoh 0: 5.814182370901108\n",
            "Epcoh 1: 2.9536602795124054\n",
            "Epcoh 2: 2.906713977456093\n",
            "Epcoh 3: 2.8909642547369003\n",
            "Epcoh 4: 2.8859013468027115\n"
          ],
          "name": "stdout"
        }
      ]
    },
    {
      "cell_type": "markdown",
      "metadata": {
        "id": "TJ4q0xlvLDEV",
        "colab_type": "text"
      },
      "source": [
        "### 1.3.1 Your Simple NN [30 pts]\n",
        "Now, it is time for you to implement your own model for this classification task. Your job here is to:\n",
        "1. Complete the SimpleNN class. It should be a 2- or 3-layer NN with proper non-linearity.\n",
        "2. Train your model with SGD optimizer.\n",
        "3. Tune your model a bit so you can achieve at least 80% accuracy on training set.\n",
        "Hint: you might want to look up `nn.ReLU`, `nn.Sigmoid`, `nn.BCELoss` in the [official document](https://pytorch.org/docs/stable/). You are allowed to freely pick the hyperparameters of your model."
      ]
    },
    {
      "cell_type": "code",
      "metadata": {
        "id": "RqBNhP_1LDEW",
        "colab_type": "code",
        "colab": {}
      },
      "source": [
        "class SimpleNN(nn.Module):\n",
        "    \n",
        "    def __init__(self, D_in, H, D_out):\n",
        "        # super().__init__()\n",
        "        ################################################################################\n",
        "        # TODO:                                                                        #\n",
        "        # Construct your small feedforward NN here.                                    #\n",
        "        ################################################################################\n",
        "        super(SimpleNN, self).__init__()\n",
        "        self.linear1 = nn.Linear(D_in, H)\n",
        "        self.linear2 = nn.Linear(H, D_out)\n",
        "        \n",
        "        ################################################################################\n",
        "        #                                 END OF YOUR CODE                             #\n",
        "        ################################################################################\n",
        "        \n",
        "    def forward(self, x):\n",
        "        ################################################################################\n",
        "        # TODO:                                                                        #\n",
        "        # feed the input to your network, and output the predictions.                  #\n",
        "        ################################################################################\n",
        "        h_relu = self.linear1(x).clamp(min=0)\n",
        "        y_pred = self.linear2(h_relu)\n",
        "        return y_pred\n",
        "    \n",
        "        ################################################################################\n",
        "        #                                 END OF YOUR CODE                             #\n",
        "        ################################################################################\n",
        "        "
      ],
      "execution_count": null,
      "outputs": []
    },
    {
      "cell_type": "code",
      "metadata": {
        "id": "U85kuZgfLDEa",
        "colab_type": "code",
        "colab": {},
        "outputId": "f2aaee83-701c-45e9-da1d-975cfd6ed09a"
      },
      "source": [
        "# an epoch means looping through all the data in the datasets\n",
        "epoch = 10\n",
        "lr = 1e-1\n",
        "\n",
        "# create a simple model that is probably not gonna work well\n",
        "\n",
        "################################################################################\n",
        "# TODO:                                                                        #\n",
        "# Initialize your model and SGD optimizer here.                                #\n",
        "################################################################################\n",
        "\n",
        "D_in, H, D_out = X_train.size(1), 10, 1\n",
        "\n",
        "model = SimpleNN(D_in, H, D_out)\n",
        "optimizer = torch.optim.SGD(model.parameters(), lr=lr)\n",
        "loss_fn = torch.nn.MSELoss(reduction='mean')\n",
        "\n",
        "\n",
        "################################################################################\n",
        "#                                 END OF YOUR CODE                             #\n",
        "################################################################################\n",
        "\n",
        "\n",
        "for e in range(epoch):\n",
        "    loss_epoch = 0\n",
        "    ################################################################################\n",
        "    # TODO:                                                                        #\n",
        "    # Loop through the dataloader and train your model with nn.BCELoss.            #\n",
        "    ################################################################################\n",
        "    \n",
        "    for x, y in train_loader:\n",
        "        y_pred = model.forward(x)\n",
        "        loss = (y_pred - y.float()).abs().mean()\n",
        "        optimizer.zero_grad()\n",
        "        loss.backward()\n",
        "        optimizer.step()\n",
        "        loss_epoch += loss.item()\n",
        "    print(f'Epcoh {e}: {loss_epoch}')\n",
        "    \n",
        "    ################################################################################\n",
        "    #                                 END OF YOUR CODE                             #\n",
        "    ################################################################################"
      ],
      "execution_count": null,
      "outputs": [
        {
          "output_type": "stream",
          "text": [
            "Epcoh 0: 2.1046195328235626\n",
            "Epcoh 1: 1.6465306729078293\n",
            "Epcoh 2: 1.533525288105011\n",
            "Epcoh 3: 1.4887716695666313\n",
            "Epcoh 4: 1.449838064610958\n",
            "Epcoh 5: 1.4225691184401512\n",
            "Epcoh 6: 1.401479311287403\n",
            "Epcoh 7: 1.40322595089674\n",
            "Epcoh 8: 1.41878142952919\n",
            "Epcoh 9: 1.3780907317996025\n"
          ],
          "name": "stdout"
        }
      ]
    },
    {
      "cell_type": "code",
      "metadata": {
        "id": "qlgaghBJLDEe",
        "colab_type": "code",
        "colab": {}
      },
      "source": [
        "# helper function for computing accuracy\n",
        "def get_acc(pred, y):\n",
        "    pred = pred.float()\n",
        "    y = y.float()\n",
        "    return (y==pred).sum().float()/y.size(0)*100."
      ],
      "execution_count": null,
      "outputs": []
    },
    {
      "cell_type": "markdown",
      "metadata": {
        "id": "WG3k-mUuLDEg",
        "colab_type": "text"
      },
      "source": [
        "Evaluate your accuracy:"
      ]
    },
    {
      "cell_type": "code",
      "metadata": {
        "id": "6Ab-hakCLDEh",
        "colab_type": "code",
        "colab": {},
        "outputId": "990e7e71-8990-44a3-df1d-1ace29989e82"
      },
      "source": [
        "y_pred = (model.forward(X_train) > 0.5)\n",
        "train_acc = get_acc(y_pred, y_train)\n",
        "\n",
        "y_pred = (model.forward(X_test) > 0.5)\n",
        "test_acc = get_acc(y_pred, y_test)\n",
        "print(f'Training accuracy: {train_acc}, Testing accuracy: {test_acc}')"
      ],
      "execution_count": null,
      "outputs": [
        {
          "output_type": "stream",
          "text": [
            "Training accuracy: 84.28571319580078, Testing accuracy: 83.33332824707031\n"
          ],
          "name": "stdout"
        }
      ]
    },
    {
      "cell_type": "code",
      "metadata": {
        "id": "_TbI2C3RLDEj",
        "colab_type": "code",
        "colab": {}
      },
      "source": [
        "# Summary: \n",
        "# Train: 700; Test: 300\n",
        "# Input: 2 (ex: [-0.7121,  0.6950])     Output: 1 (ex: 0 or 1)\n",
        "# Architecture: 2-layers NN with 10 hidden nodes\n",
        "# Activation function: ReLU\n",
        "# Optimization: SGD \n",
        "# Loss function: MSELoss\n",
        "# Hyperparameter: epoch = 10,learning rate: lr = 1e-1\n",
        "# This simple NN acheives over 80% accuracy for both train and test dataset"
      ],
      "execution_count": null,
      "outputs": []
    },
    {
      "cell_type": "markdown",
      "metadata": {
        "id": "okRug6M1LDEm",
        "colab_type": "text"
      },
      "source": [
        "# Section 2. Image Classification with CNN [70 pts]\n",
        "Now, we are back to the image classification problem. In this section, our goal is to, again, train models on CIFAR-10 to perform image classification. Your tasks here are to:\n",
        "1. Build and Train a simple feed-forward Neural Network (consists of only nn.Linear layer with activation function) for the classification task\n",
        "2. Build and Train a **Convolutional** Neural Network (CNN) for the classification task\n",
        "3. Try different settings for training your CNN\n",
        "4. Reproduce"
      ]
    },
    {
      "cell_type": "markdown",
      "metadata": {
        "id": "K6KdjjmzLDEm",
        "colab_type": "text"
      },
      "source": [
        "In the following cell, we provide the code for creating a CIFAR10 dataloader. As you can see, PyTorch's `torchvision` package actually has an interface for the CIFAR10 dataset: "
      ]
    },
    {
      "cell_type": "code",
      "metadata": {
        "id": "paNskxgVLDEn",
        "colab_type": "code",
        "colab": {},
        "outputId": "53714e5e-88e7-487e-84a7-0436c6dc4e97"
      },
      "source": [
        "import torchvision\n",
        "import torchvision.transforms as transforms\n",
        "\n",
        "# Preprocessing steps on the training/testing data. You can define your own data augmentation\n",
        "# here, and PyTorch's API will do the rest for you.\n",
        "transform_train = transforms.Compose([\n",
        "    transforms.ToTensor(),\n",
        "    transforms.Normalize((0.4914, 0.4822, 0.4465), (0.2023, 0.1994, 0.2010)),\n",
        "])\n",
        "\n",
        "transform_test = transforms.Compose([\n",
        "    transforms.ToTensor(),\n",
        "    transforms.Normalize((0.4914, 0.4822, 0.4465), (0.2023, 0.1994, 0.2010)),\n",
        "])\n",
        "\n",
        "# This will automatically download the dataset for you if it cannot find the data in root\n",
        "trainset = torchvision.datasets.CIFAR10(root='./data', train=True, download=True, transform=transform_train)\n",
        "testset = torchvision.datasets.CIFAR10(root='./data', train=False, download=True, transform=transform_test)"
      ],
      "execution_count": null,
      "outputs": [
        {
          "output_type": "stream",
          "text": [
            "Files already downloaded and verified\n",
            "Files already downloaded and verified\n"
          ],
          "name": "stdout"
        }
      ]
    },
    {
      "cell_type": "markdown",
      "metadata": {
        "id": "hTBZrDaALDEq",
        "colab_type": "text"
      },
      "source": [
        "## 2.1 Simple NN [30 pts]\n",
        "Implement a simple feed-forward neural network, and train it on the CIFAR-10 training set. Here's some specific requirements:\n",
        "1. The network should only consists of `nn.Linear` layers and the activation functions of your choices (e.g. `nn.Tanh`, `nn.ReLU`, `nn.Sigmoid`, etc). \n",
        "2. Train your model with `torch.optim.SGD` with the hyperparameters you like the most. \n",
        "\n",
        "Note that the hyperparameters work in previous assignment might not work the same, as the implementations of layers could be different."
      ]
    },
    {
      "cell_type": "code",
      "metadata": {
        "id": "VQeETiVELDEs",
        "colab_type": "code",
        "colab": {}
      },
      "source": [
        "class SimpleNN(nn.Module):\n",
        "    \n",
        "    def __init__(self, D_in, H, D_out):\n",
        "        super().__init__()\n",
        "        ################################################################################\n",
        "        # TODO:                                                                        #\n",
        "        # Construct your small feedforward NN here.                                    #\n",
        "        ################################################################################\n",
        "        super(SimpleNN, self).__init__()\n",
        "        self.linear1 = nn.Linear(D_in, H)\n",
        "        self.linear2 = nn.Linear(H, D_out)\n",
        "        \n",
        "        ################################################################################\n",
        "        #                                 END OF YOUR CODE                             #\n",
        "        ################################################################################\n",
        "        \n",
        "    def forward(self, x):\n",
        "        # note that: here, the data is of the shape (B, C, H, W)\n",
        "        # where B is the batch size, C is color channels, and H\n",
        "        # and W is height and width.\n",
        "        # To feed it into the linear layer, we need to reshape it\n",
        "        # with .view() function.\n",
        "        batch_size = x.size(0)\n",
        "        x = x.view(batch_size, -1) # reshape the data from (B, C, H, W) to (B, C*H*W)\n",
        "        ################################################################################\n",
        "        # TODO:                                                                        #\n",
        "        # Forward pass, output the prediction score.                                   #\n",
        "        ################################################################################\n",
        "        h_relu = self.linear1(x).clamp(min=0)\n",
        "        y_pred = self.linear2(h_relu)\n",
        "        return y_pred\n",
        "        ################################################################################\n",
        "        #                                 END OF YOUR CODE                             #\n",
        "        ################################################################################"
      ],
      "execution_count": null,
      "outputs": []
    },
    {
      "cell_type": "code",
      "metadata": {
        "id": "YV0F4qQNLDEy",
        "colab_type": "code",
        "colab": {},
        "outputId": "dbbbe635-5e0d-49a2-9c50-3de82990b462"
      },
      "source": [
        "epoch = 10\n",
        "lr = 1e-2\n",
        "n_input = 3072\n",
        "n_classes = 10\n",
        "\n",
        "train_loader = torch.utils.data.DataLoader(trainset, batch_size=64, shuffle=True, num_workers=2)\n",
        "test_loader = torch.utils.data.DataLoader(testset, batch_size=100, shuffle=False, num_workers=2)\n",
        "\n",
        "################################################################################\n",
        "# TODO:                                                                        #\n",
        "# Your training code here.                                                     #\n",
        "################################################################################\n",
        "\n",
        "H = 100\n",
        "model = SimpleNN(n_input, H, n_classes)\n",
        "optimizer = torch.optim.SGD(model.parameters(), lr=lr)\n",
        "loss_fn = nn.CrossEntropyLoss()\n",
        "\n",
        "\n",
        "for e in range(epoch):\n",
        "    loss_epoch = 0\n",
        "    for x, y in train_loader:\n",
        "        y_pred = model.forward(x)\n",
        "        loss = loss_fn(y_pred,y)\n",
        "        optimizer.zero_grad()\n",
        "        loss.backward()\n",
        "        optimizer.step()\n",
        "        loss_epoch += loss.item()\n",
        "    print(f'Epcoh {e}: {loss_epoch}')\n",
        "\n",
        "\n",
        "################################################################################\n",
        "#                                 END OF YOUR CODE                             #\n",
        "################################################################################\n"
      ],
      "execution_count": null,
      "outputs": [
        {
          "output_type": "stream",
          "text": [
            "Epcoh 0: 1354.4918031692505\n",
            "Epcoh 1: 1208.396605372429\n",
            "Epcoh 2: 1145.9103227853775\n",
            "Epcoh 3: 1099.5618304014206\n",
            "Epcoh 4: 1063.9656347036362\n",
            "Epcoh 5: 1034.5730928182602\n",
            "Epcoh 6: 1007.9670815467834\n",
            "Epcoh 7: 984.9500880241394\n",
            "Epcoh 8: 964.326208293438\n",
            "Epcoh 9: 946.5294954776764\n"
          ],
          "name": "stdout"
        }
      ]
    },
    {
      "cell_type": "markdown",
      "metadata": {
        "id": "w8PHkIsBLDE0",
        "colab_type": "text"
      },
      "source": [
        "Now evaluate your model with the helper function:"
      ]
    },
    {
      "cell_type": "code",
      "metadata": {
        "id": "CtHe6PfxLDE0",
        "colab_type": "code",
        "colab": {}
      },
      "source": [
        "def get_model_acc(model, loader):\n",
        "    ys = []\n",
        "    y_preds = []\n",
        "    for x, y in loader:\n",
        "        ys.append(y)\n",
        "        # set the prediction to the one that has highest value\n",
        "        # Note that the the output size of model(x) is (B, 10)\n",
        "        y_preds.append(torch.argmax(model(x), dim=1))\n",
        "    y = torch.cat(ys, dim=0)\n",
        "    y_pred = torch.cat(y_preds, dim=0)\n",
        "    print((y == y_pred).sum())\n",
        "    return get_acc(y_pred, y)"
      ],
      "execution_count": null,
      "outputs": []
    },
    {
      "cell_type": "markdown",
      "metadata": {
        "id": "KID4IicZLDE3",
        "colab_type": "text"
      },
      "source": [
        "### 2.1.1 Evaluate NN [30 pts]\n",
        "Evaluate your NN. You should get an accuracy around **50%** on training set and **49%** on testing set."
      ]
    },
    {
      "cell_type": "code",
      "metadata": {
        "id": "88AOo-qDLDE3",
        "colab_type": "code",
        "colab": {},
        "outputId": "12d02063-0136-46ed-cc34-3ce5d1b6a58d"
      },
      "source": [
        "train_acc = get_model_acc(model, train_loader)\n",
        "test_acc = get_model_acc(model, test_loader)\n",
        "print(f'Training accuracy: {train_acc}, Testing accuracy: {test_acc}')"
      ],
      "execution_count": null,
      "outputs": [
        {
          "output_type": "stream",
          "text": [
            "tensor(28675)\n",
            "tensor(4919)\n",
            "Training accuracy: 57.349998474121094, Testing accuracy: 49.189998626708984\n"
          ],
          "name": "stdout"
        }
      ]
    },
    {
      "cell_type": "code",
      "metadata": {
        "id": "NE6KQC4GLDE7",
        "colab_type": "code",
        "colab": {}
      },
      "source": [
        "# Summary: \n",
        "# Input: 3072      Output: 10\n",
        "# Architecture: 2-layers NN with 100 hidden nodes\n",
        "# Activation function: ReLU\n",
        "# Optimization: SGD \n",
        "# Loss function: CrossEntropyLoss\n",
        "# Hyperparameter: epoch = 10,learning rate: lr = 1e-1; batch size: 64\n",
        "# This simple NN acheives accuracy around 50% on training set and 49% on testing set."
      ],
      "execution_count": null,
      "outputs": []
    },
    {
      "cell_type": "markdown",
      "metadata": {
        "id": "-srm1GG0LDE9",
        "colab_type": "text"
      },
      "source": [
        "## 2.2 Convolutional Neural Network (CNN) [40 pts]\n",
        "Convolutional layer has been proven to be extremely useful for vision-based task. As mentioned in the lecture, this speical layer allows the model to learn filters that capture crucial visual features. \n",
        "\n"
      ]
    },
    {
      "cell_type": "markdown",
      "metadata": {
        "id": "aZ3yu0sqLDE-",
        "colab_type": "text"
      },
      "source": [
        "### 2.2.1 Implement and Evaluate CNN [10 pts]\n",
        "In this section, you will need to construct a CNN for classifying CIFAR-10 image. Specifically, you need to:\n",
        "1. build a `CNNClassifier` with `nn.Conv2d`, `nn.Maxpool2d` and activation functions that you think are appropriate. \n",
        "2. You would need to flatten the output of your convolutional networks with `view()`, and feed it into a `nn.Linear` layer to predict the class labels of the input. \n",
        "\n",
        "Once you are done with your module, train it with `optim.SGD`, and evaluate it. You should get an accuracy around **55%** on training set and **53%** on testing set.\n",
        "\n",
        "Hint: You might want to look up `nn.Conv2d`, `nn.Maxpool2d`, `nn.CrossEntropyLoss()`, `view()` and `size()`."
      ]
    },
    {
      "cell_type": "code",
      "metadata": {
        "id": "U2Bl64B_LDE_",
        "colab_type": "code",
        "colab": {}
      },
      "source": [
        "import torch.nn.functional as F\n",
        "\n",
        "class CNNClassifier(nn.Module):\n",
        "    \n",
        "    def __init__(self,in_channel, out_channel, filter_size):\n",
        "        ################################################################################\n",
        "        # TODO:                                                                        #\n",
        "        # Construct a CNN with 2 or 3 convolutional layers and 1 linear layer for      #\n",
        "        # outputing class prediction. You are free to pick the hyperparameters         #\n",
        "        ################################################################################\n",
        "        \n",
        "        super(CNNClassifier, self).__init__()\n",
        "        self.conv1 = nn.Conv2d(in_channel, 15, filter_size)\n",
        "        self.pool = nn.MaxPool2d(2, 2)\n",
        "        self.conv2 = nn.Conv2d(15, 12, filter_size)\n",
        "        self.linear1=nn.Linear(12 * 10 * 10, out_channel)\n",
        "        \n",
        "        ################################################################################\n",
        "        #                                 END OF YOUR CODE                             #\n",
        "        ################################################################################\n",
        "        \n",
        "        \n",
        "    def forward(self, x):\n",
        "        ################################################################################\n",
        "        # TODO:                                                                        #\n",
        "        # Forward pass of your network. First extract feature with CNN, and predict    #\n",
        "        # class scores with linear layer. Be careful about your input/output shape.    #\n",
        "        ################################################################################\n",
        "        \n",
        "        # print(x.size())\n",
        "        x = F.relu(self.conv1(x))\n",
        "        x = self.pool(x)\n",
        "        x = self.conv2(x)\n",
        "        x = x.view(-1, 12* 10 * 10)\n",
        "        return self.linear1(x)\n",
        "        \n",
        "        ################################################################################\n",
        "        #                                 END OF YOUR CODE                             #\n",
        "        ################################################################################"
      ],
      "execution_count": null,
      "outputs": []
    },
    {
      "cell_type": "code",
      "metadata": {
        "scrolled": false,
        "id": "hFDWIJD2LDFB",
        "colab_type": "code",
        "colab": {},
        "outputId": "e1e7485b-6e0a-4173-a2e6-4b2ca0ca15a3"
      },
      "source": [
        "# You can tune these hyperparameters as you like.\n",
        "epoch = 10\n",
        "lr = 1e-2\n",
        "n_input = 3072\n",
        "n_classes = 10\n",
        "batch_size = 64\n",
        "num_workers = 2\n",
        "\n",
        "train_loader = torch.utils.data.DataLoader(trainset, batch_size=64, shuffle=True, num_workers=2)\n",
        "test_loader = torch.utils.data.DataLoader(testset, batch_size=100, shuffle=False, num_workers=2)\n",
        "\n",
        "################################################################################\n",
        "# TODO:                                                                        #\n",
        "# Your training code here.                                                     #\n",
        "################################################################################\n",
        "\n",
        "model = CNNClassifier(3,10,5)\n",
        "optimizer = torch.optim.SGD(model.parameters(), lr=lr)\n",
        "loss_fn = nn.CrossEntropyLoss()\n",
        "\n",
        "for e in range(epoch):\n",
        "    loss_epoch = 0\n",
        "    for x, y in train_loader:\n",
        "        y_pred = model.forward(x)\n",
        "        loss = loss_fn(y_pred,y)\n",
        "        optimizer.zero_grad()\n",
        "        loss.backward()\n",
        "        optimizer.step()\n",
        "        loss_epoch += loss.item()\n",
        "    print(f'Epcoh {e}: {loss_epoch}')\n",
        "    \n",
        "\n",
        "################################################################################\n",
        "#                                 END OF YOUR CODE                             #\n",
        "################################################################################"
      ],
      "execution_count": null,
      "outputs": [
        {
          "output_type": "stream",
          "text": [
            "Epcoh 0: 1327.052695274353\n",
            "Epcoh 1: 1086.5805433988571\n",
            "Epcoh 2: 1017.3189124464989\n",
            "Epcoh 3: 961.9801934957504\n",
            "Epcoh 4: 913.0858766436577\n",
            "Epcoh 5: 876.5575193762779\n",
            "Epcoh 6: 853.1251313686371\n",
            "Epcoh 7: 836.4923467040062\n",
            "Epcoh 8: 822.2498172521591\n",
            "Epcoh 9: 809.7935128211975\n"
          ],
          "name": "stdout"
        }
      ]
    },
    {
      "cell_type": "code",
      "metadata": {
        "id": "ZT89n3ADLDFD",
        "colab_type": "code",
        "colab": {},
        "outputId": "f309f5e6-1701-4cf6-ac7c-2bb09573efea"
      },
      "source": [
        "# turn on evaluation mode. This is crucial when you have BatchNorm in your network,\n",
        "# as you want to use the running mean/std you obtain durining training time to normalize\n",
        "# your input data. Rememeber to call .train() function after evaluation\n",
        "model.eval()\n",
        "train_acc = get_model_acc(model, train_loader)\n",
        "test_acc = get_model_acc(model, test_loader)\n",
        "print(f'Training accuracy: {train_acc}, Testing accuracy: {test_acc}')"
      ],
      "execution_count": null,
      "outputs": [
        {
          "output_type": "stream",
          "text": [
            "tensor(31076)\n",
            "tensor(5970)\n",
            "Training accuracy: 62.15199661254883, Testing accuracy: 59.70000076293945\n"
          ],
          "name": "stdout"
        }
      ]
    },
    {
      "cell_type": "markdown",
      "metadata": {
        "id": "kqD40QfQLDFF",
        "colab_type": "text"
      },
      "source": [
        "<span style=\"color:red\">**Explain your design and hyperparameter choice in three or four sentences:**</span>"
      ]
    },
    {
      "cell_type": "markdown",
      "metadata": {
        "id": "1115lTtRLDFG",
        "colab_type": "text"
      },
      "source": [
        "Design: \n",
        "    The network contains 2 convolutional layers and 1 max pooling layer. \n",
        "    The input channel is 3; Middle channel is 15; Output channel is 10;\n",
        "    Filter size is 5. Stride=1. Pooling size is 2. No padding.\n",
        "    Optimization: SGD\n",
        "    Loss function: CrossEntropyLoss\n",
        "    \n",
        "Hyperparameter:\n",
        "    epoch = 10\n",
        "    lr = 1e-2\n",
        "    batch_size = 64\n",
        "    \n",
        "Results:\n",
        "    This simple CNN acheives accuracy around 62% on training set and 59% on testing set. \n",
        "    I made this chocie because it can give me best accuracy by trail and error. \n",
        "    Also, the CNN is simple enough for my laptop to run. "
      ]
    },
    {
      "cell_type": "markdown",
      "metadata": {
        "id": "STCCrPtDLDFH",
        "colab_type": "text"
      },
      "source": [
        "### 2.2.2 STACK MORE LAYERS [10 pts]\n",
        "Now, **try at least 4 network architectures with different numbers of convolutional layers**. Train these settings with `optim.SGD`, plot the accuracy as a fuction of convolutional layers and describe what you have observed (running time, performance, etc). "
      ]
    },
    {
      "cell_type": "code",
      "metadata": {
        "id": "0zMYLt3ILDFI",
        "colab_type": "code",
        "colab": {},
        "outputId": "3c547b2f-2ef1-419c-f5c0-18c85196e452"
      },
      "source": [
        "################################################################################\n",
        "# TODO:                                                                        #\n",
        "# Your training code here.                                                     #\n",
        "################################################################################\n",
        "import torch.nn.functional as F\n",
        "## 1-layer CNN\n",
        "%time\n",
        "class CNNLayer1(nn.Module):\n",
        "    def __init__(self,in_channels,out_channels):\n",
        "        super(CNNLayer1,self).__init__()\n",
        "        #Create 1st layer\n",
        "        self.conv1 = nn.Conv2d(in_channels=in_channels,out_channels=8,kernel_size=5)\n",
        "        self.linear = nn.Linear(in_features=8*28*28,out_features=out_channels)\n",
        "        \n",
        "    def forward(self, x):\n",
        "        x = self.conv1(x)\n",
        "        x = x.view(-1,8*28*28)\n",
        "        return self.linear(x)\n",
        "\n",
        "##  2-layer CNN\n",
        "class CNNLayer2(nn.Module):\n",
        "    def __init__(self,in_channels,out_channels):\n",
        "        super(CNNLayer2,self).__init__()\n",
        "        \n",
        "        self.conv1 = nn.Conv2d(in_channels=in_channels,out_channels=8,kernel_size=5)\n",
        "        self.pool1 = nn.MaxPool2d(2, 2)\n",
        "        self.conv2 = nn.Conv2d(in_channels=8,out_channels=8,kernel_size=5)\n",
        "        self.linear = nn.Linear(in_features=8*10*10,out_features=out_channels)\n",
        "        \n",
        "    def forward(self, x):\n",
        "        x = F.relu(self.conv1(x))\n",
        "        x = self.pool1(x)\n",
        "        x = self.conv2(x)\n",
        "        x = x.view(-1,8*10*10)\n",
        "        return self.linear(x)\n",
        "\n",
        "##  3-layer CNN\n",
        "class CNNLayer3(nn.Module):\n",
        "    def __init__(self,in_channels,out_channels):\n",
        "        super(CNNLayer3,self).__init__()\n",
        "        \n",
        "        self.conv1 = nn.Conv2d(in_channels=in_channels,out_channels=8,kernel_size=5)\n",
        "        self.pool1 = nn.MaxPool2d(2, 2)\n",
        "        self.conv2 = nn.Conv2d(in_channels=8,out_channels=8,kernel_size=5)\n",
        "        self.conv3 = nn.Conv2d(in_channels=8,out_channels=8,kernel_size=5)\n",
        "        self.linear = nn.Linear(in_features=8*6*6,out_features=out_channels)\n",
        "        \n",
        "    def forward(self, x):\n",
        "        x = F.relu(self.conv1(x))\n",
        "        x = self.pool1(x)\n",
        "        x = F.relu(self.conv2(x))\n",
        "        x = self.conv3(x)\n",
        "        x = x.view(-1,8*6*6)\n",
        "        return self.linear(x)\n",
        "\n",
        "##  4-layer CNN\n",
        "class CNNLayer4(nn.Module):\n",
        "    def __init__(self,in_channels,out_channels):\n",
        "        super(CNNLayer4,self).__init__()\n",
        "        \n",
        "        self.conv1 = nn.Conv2d(in_channels=in_channels,out_channels=8,kernel_size=5)\n",
        "        self.pool1 = nn.MaxPool2d(2, 2)\n",
        "        self.conv2 = nn.Conv2d(in_channels=8,out_channels=8,kernel_size=5)\n",
        "        self.conv3 = nn.Conv2d(in_channels=8,out_channels=8,kernel_size=5)\n",
        "        self.conv4 = nn.Conv2d(in_channels=8,out_channels=8,kernel_size=5)\n",
        "        self.linear = nn.Linear(in_features=8*2*2,out_features=out_channels)\n",
        "        \n",
        "    def forward(self, x):\n",
        "        x = F.relu(self.conv1(x))\n",
        "        x = self.pool1(x)\n",
        "        x = F.relu(self.conv2(x))\n",
        "        x = F.relu(self.conv3(x))\n",
        "        x = self.conv4(x)\n",
        "        x = x.view(-1,8*2*2)\n",
        "        return self.linear(x)\n",
        "\n",
        "# Train the CNN \n",
        "epoch = 10\n",
        "lr = 1e-2\n",
        "n_input = 3072\n",
        "n_classes = 10\n",
        "batch_size = 64\n",
        "num_workers = 2\n",
        "\n",
        "train_loader = torch.utils.data.DataLoader(trainset, batch_size=64, shuffle=True, num_workers=2)\n",
        "test_loader = torch.utils.data.DataLoader(testset, batch_size=100, shuffle=False, num_workers=2)\n",
        "\n",
        "model = CNNLayer4(3,10)\n",
        "optimizer = torch.optim.SGD(model.parameters(), lr=lr)\n",
        "loss_fn = nn.CrossEntropyLoss()\n",
        "\n",
        "\n",
        "for e in range(epoch):\n",
        "    loss_epoch = 0\n",
        "    for x, y in train_loader:\n",
        "        y_pred = model.forward(x)\n",
        "        loss = loss_fn(y_pred,y)\n",
        "        optimizer.zero_grad()\n",
        "        loss.backward()\n",
        "        optimizer.step()\n",
        "        loss_epoch += loss.item()\n",
        "    print(f'Epcoh {e}: {loss_epoch}')\n",
        "\n",
        "model.eval()\n",
        "train_acc = get_model_acc(model, train_loader)\n",
        "test_acc = get_model_acc(model, test_loader)\n",
        "print(f'Training accuracy: {train_acc}, Testing accuracy: {test_acc}')\n",
        "\n",
        "    \n",
        "################################################################################\n",
        "#                                 END OF YOUR CODE                             #\n",
        "################################################################################"
      ],
      "execution_count": null,
      "outputs": [
        {
          "output_type": "stream",
          "text": [
            "CPU times: user 3 µs, sys: 1e+03 ns, total: 4 µs\n",
            "Wall time: 5.96 µs\n",
            "Epcoh 0: 1688.572285413742\n",
            "Epcoh 1: 1465.2414149045944\n",
            "Epcoh 2: 1329.496152639389\n",
            "Epcoh 3: 1235.3316926956177\n",
            "Epcoh 4: 1171.414178609848\n",
            "Epcoh 5: 1134.991012096405\n",
            "Epcoh 6: 1109.8472093343735\n",
            "Epcoh 7: 1088.250674366951\n",
            "Epcoh 8: 1070.494764149189\n",
            "Epcoh 9: 1057.0194869041443\n",
            "tensor(21749)\n",
            "tensor(4253)\n",
            "Training accuracy: 43.49800109863281, Testing accuracy: 42.529998779296875\n"
          ],
          "name": "stdout"
        }
      ]
    },
    {
      "cell_type": "code",
      "metadata": {
        "id": "6Gq4nVnALDFO",
        "colab_type": "code",
        "colab": {}
      },
      "source": [
        "1-layer CNN Output: \n",
        "Epcoh 0: 1406.8942036628723\n",
        "Epcoh 1: 1355.0191254615784\n",
        "Epcoh 2: 1339.4922153949738\n",
        "Epcoh 3: 1330.805212855339\n",
        "Epcoh 4: 1322.5252001285553\n",
        "Epcoh 5: 1316.581095457077\n",
        "Epcoh 6: 1310.009941458702\n",
        "Epcoh 7: 1306.171748161316\n",
        "Epcoh 8: 1300.480077624321\n",
        "Epcoh 9: 1297.2553458213806\n",
        "tensor(21127)\n",
        "tensor(3712)\n",
        "Training accuracy: 42.25400161743164, Testing accuracy: 37.119998931884766\n",
        "\n",
        "2-layer CNN Output: \n",
        "Epcoh 0: 1373.0496850013733\n",
        "Epcoh 1: 1151.033370733261\n",
        "Epcoh 2: 1078.3630838990211\n",
        "Epcoh 3: 1029.7335131168365\n",
        "Epcoh 4: 993.3573430776596\n",
        "Epcoh 5: 970.7726957201958\n",
        "Epcoh 6: 949.9841889739037\n",
        "Epcoh 7: 932.6380230784416\n",
        "Epcoh 8: 919.5890220403671\n",
        "Epcoh 9: 908.4062338471413\n",
        "tensor(29063)\n",
        "tensor(5608)\n",
        "Training accuracy: 58.12600326538086, Testing accuracy: 56.08000183105469\n",
        "        \n",
        "3-layer CNN Output:\n",
        "Epcoh 0: 1563.753846168518\n",
        "Epcoh 1: 1286.564388513565\n",
        "Epcoh 2: 1192.53229367733\n",
        "Epcoh 3: 1132.1954835653305\n",
        "Epcoh 4: 1090.5051774382591\n",
        "Epcoh 5: 1052.856717467308\n",
        "Epcoh 6: 1027.9334802031517\n",
        "Epcoh 7: 1007.6736091971397\n",
        "Epcoh 8: 991.900506913662\n",
        "Epcoh 9: 978.280636370182\n",
        "tensor(27850)\n",
        "tensor(5453)\n",
        "Training accuracy: 55.69999694824219, Testing accuracy: 54.529998779296875\n",
        "        \n",
        "4-layer CNN Output:\n",
        "Epcoh 0: 1688.572285413742\n",
        "Epcoh 1: 1465.2414149045944\n",
        "Epcoh 2: 1329.496152639389\n",
        "Epcoh 3: 1235.3316926956177\n",
        "Epcoh 4: 1171.414178609848\n",
        "Epcoh 5: 1134.991012096405\n",
        "Epcoh 6: 1109.8472093343735\n",
        "Epcoh 7: 1088.250674366951\n",
        "Epcoh 8: 1070.494764149189\n",
        "Epcoh 9: 1057.0194869041443\n",
        "tensor(21749)\n",
        "tensor(4253)\n",
        "Training accuracy: 43.49800109863281, Testing accuracy: 42.529998779296875"
      ],
      "execution_count": null,
      "outputs": []
    },
    {
      "cell_type": "code",
      "metadata": {
        "id": "uWAlLjAyLDFQ",
        "colab_type": "code",
        "colab": {},
        "outputId": "8632d083-dc8f-411b-c04e-4b6409abddd3"
      },
      "source": [
        "# Plot the result: \n",
        "layer_list=[1,2,3,4]\n",
        "acu_list=[37.119998931884766,56.08000183105469,54.529998779296875,42.529998779296875]\n",
        "plt.plot(layer_list,acu_list,'bo');\n",
        "plt.ylabel('Acuracy of Test');\n",
        "plt.xlabel('Number of Layers');"
      ],
      "execution_count": null,
      "outputs": [
        {
          "output_type": "display_data",
          "data": {
            "image/png": "[encoded data removed]",
            "text/plain": [
              "<Figure size 432x288 with 1 Axes>"
            ]
          },
          "metadata": {
            "tags": [],
            "needs_background": "light"
          }
        }
      ]
    },
    {
      "cell_type": "markdown",
      "metadata": {
        "id": "3CwsJfo0LDFS",
        "colab_type": "text"
      },
      "source": [
        "<span style=\"color:red\">**Briefly explain what you have observed in three or four sentences. Does stacking layers always give you better results? How about the computational time?:**</span>"
      ]
    },
    {
      "cell_type": "code",
      "metadata": {
        "id": "bEv_s6l4LDFT",
        "colab_type": "code",
        "colab": {}
      },
      "source": [
        "The accuracy increases at first and then decreases when we increase the number of layers. \n",
        "It does not always give better result by stacking more layers.\n",
        "We find that it takes more computational time to train CNN with more layers. "
      ],
      "execution_count": null,
      "outputs": []
    },
    {
      "cell_type": "markdown",
      "metadata": {
        "id": "-K4JlE3FLDFV",
        "colab_type": "text"
      },
      "source": [
        "### 2.2.3 Optimizer? Optimizer! [10 pts]\n",
        "So far, we only use SGD as our optimizer. Now, pick two other optimizers, train your CNN models, and compare the performance you get. What did you see?"
      ]
    },
    {
      "cell_type": "code",
      "metadata": {
        "id": "RKTc9ewULDFV",
        "colab_type": "code",
        "colab": {},
        "outputId": "6b60f2fd-87d0-48d5-aab9-a3557414b611"
      },
      "source": [
        "################################################################################\n",
        "# TODO:                                                                        #\n",
        "# Your training code here.                                                     #\n",
        "################################################################################\n",
        "\n",
        "import torch.optim as Opt\n",
        "# You can tune these hyperparameters as you like.\n",
        "epoch = 10\n",
        "lr = 1e-2\n",
        "n_input = 3072\n",
        "n_classes = 10\n",
        "batch_size = 64\n",
        "num_workers = 2\n",
        "\n",
        "train_loader = torch.utils.data.DataLoader(trainset, batch_size=64, shuffle=True, num_workers=2)\n",
        "test_loader = torch.utils.data.DataLoader(testset, batch_size=100, shuffle=False, num_workers=2)\n",
        "\n",
        "model = CNNLayer2(3,10)\n",
        "loss_fn = nn.CrossEntropyLoss()\n",
        "\n",
        "# choose different optimizers:\n",
        "#optimizer = torch.optim.SGD(model.parameters(), lr=lr)\n",
        "#optimizer = torch.optim.Adam(model.parameters(), lr=lr)\n",
        "optimizer = torch.optim.Adadelta(model.parameters(), lr=lr)\n",
        "\n",
        "for e in range(epoch):\n",
        "    loss_epoch = 0\n",
        "    for x, y in train_loader:\n",
        "        y_pred = model.forward(x)\n",
        "        loss = loss_fn(y_pred,y)\n",
        "        optimizer.zero_grad()\n",
        "        loss.backward()\n",
        "        optimizer.step()\n",
        "        loss_epoch += loss.item()\n",
        "    print(f'Epcoh {e}: {loss_epoch}')\n",
        "    \n",
        "model.eval()\n",
        "train_acc = get_model_acc(model, train_loader)\n",
        "test_acc = get_model_acc(model, test_loader)\n",
        "print(f'Training accuracy: {train_acc}, Testing accuracy: {test_acc}')\n",
        "\n",
        "################################################################################\n",
        "#                                 END OF YOUR CODE                             #\n",
        "################################################################################"
      ],
      "execution_count": null,
      "outputs": [
        {
          "output_type": "stream",
          "text": [
            "Epcoh 0: 1646.5864316225052\n",
            "Epcoh 1: 1508.3467164039612\n",
            "Epcoh 2: 1446.6222896575928\n",
            "Epcoh 3: 1390.4752886295319\n",
            "Epcoh 4: 1336.2126928567886\n",
            "Epcoh 5: 1288.947086572647\n",
            "Epcoh 6: 1251.0049463510513\n",
            "Epcoh 7: 1222.1448757648468\n",
            "Epcoh 8: 1198.5986899137497\n",
            "Epcoh 9: 1179.6359493732452\n",
            "tensor(23476)\n",
            "tensor(4713)\n",
            "Training accuracy: 46.95199966430664, Testing accuracy: 47.130001068115234\n"
          ],
          "name": "stdout"
        }
      ]
    },
    {
      "cell_type": "code",
      "metadata": {
        "id": "QdAl2kKXLDFX",
        "colab_type": "code",
        "colab": {}
      },
      "source": [
        "SDG output: \n",
        "Epcoh 0: 1373.0496850013733\n",
        "Epcoh 1: 1151.033370733261\n",
        "Epcoh 2: 1078.3630838990211\n",
        "Epcoh 3: 1029.7335131168365\n",
        "Epcoh 4: 993.3573430776596\n",
        "Epcoh 5: 970.7726957201958\n",
        "Epcoh 6: 949.9841889739037\n",
        "Epcoh 7: 932.6380230784416\n",
        "Epcoh 8: 919.5890220403671\n",
        "Epcoh 9: 908.4062338471413\n",
        "tensor(29063)\n",
        "tensor(5608)\n",
        "Training accuracy: 58.12600326538086, Testing accuracy: 56.08000183105469\n",
        "\n",
        "Adam output:\n",
        "Epcoh 0: 1411.3866897821426\n",
        "Epcoh 1: 1331.034428358078\n",
        "Epcoh 2: 1373.3354017734528\n",
        "Epcoh 3: 1349.5545563697815\n",
        "Epcoh 4: 1343.59157538414\n",
        "Epcoh 5: 1359.3811277151108\n",
        "Epcoh 6: 1352.0158956050873\n",
        "Epcoh 7: 1347.3744359016418\n",
        "Epcoh 8: 1360.8486785888672\n",
        "Epcoh 9: 1332.8903744220734\n",
        "tensor(19177)\n",
        "tensor(3639)\n",
        "Training accuracy: 38.354000091552734, Testing accuracy: 36.38999938964844\n",
        "        \n",
        "Adadelta output: \n",
        "Epcoh 0: 1646.5864316225052\n",
        "Epcoh 1: 1508.3467164039612\n",
        "Epcoh 2: 1446.6222896575928\n",
        "Epcoh 3: 1390.4752886295319\n",
        "Epcoh 4: 1336.2126928567886\n",
        "Epcoh 5: 1288.947086572647\n",
        "Epcoh 6: 1251.0049463510513\n",
        "Epcoh 7: 1222.1448757648468\n",
        "Epcoh 8: 1198.5986899137497\n",
        "Epcoh 9: 1179.6359493732452\n",
        "tensor(23476)\n",
        "tensor(4713)\n",
        "Training accuracy: 46.95199966430664, Testing accuracy: 47.130001068115234"
      ],
      "execution_count": null,
      "outputs": []
    },
    {
      "cell_type": "markdown",
      "metadata": {
        "id": "bs2ptNBcLDFZ",
        "colab_type": "text"
      },
      "source": [
        "<span style=\"color:red\">**What did you see? Which optimizer is your favorite? Describe:**</span>"
      ]
    },
    {
      "cell_type": "markdown",
      "metadata": {
        "id": "kT0uqjQDLDFa",
        "colab_type": "text"
      },
      "source": [
        "I train the same CNN with three different optimization algorithms, SGD, Adam and Adadelta. \n",
        "From our results, SGD performs best, then Adadelta and Adam. \n",
        "My favorite one is SGD."
      ]
    },
    {
      "cell_type": "markdown",
      "metadata": {
        "id": "k9Uq7CidLDFb",
        "colab_type": "text"
      },
      "source": [
        "### 2.2.4 Improve Your Model [10 pts]\n",
        "Again, we want you to play with your model a bit harder, and improve it. You are free to use everything you can find in the documents (`BatchNorm`, `SeLU`, etc), as long as it is not a **predefined network architectures in PyTorch package**. You can also implement some famous network architectures to push the performance. \n",
        "\n",
        "(A simple network with 5-6 `nn.Conv2d` can give you at least 70% accuracy on testing set)."
      ]
    },
    {
      "cell_type": "code",
      "metadata": {
        "id": "jOl56_T7LDFb",
        "colab_type": "code",
        "colab": {}
      },
      "source": [
        "################################################################################\n",
        "# TODO:                                                                        #\n",
        "# Your training code here.                                                     #\n",
        "################################################################################\n",
        "\n",
        "class ConvBatSeLu(nn.Module):\n",
        "    def __init__(self,in_channels,out_channels):\n",
        "        super(ConvBatSeLu,self).__init__()\n",
        "        self.conv = nn.Conv2d(in_channels=in_channels,out_channels=out_channels,kernel_size=5)\n",
        "        self.bn = nn.BatchNorm2d(num_features=out_channels)\n",
        "\n",
        "    def forward(self,input):\n",
        "        output = self.conv(input)\n",
        "        output = self.bn(output)\n",
        "        output = F.selu(output)\n",
        "        return output\n",
        "\n",
        "\n",
        "class MyBestCNN(nn.Module):\n",
        "    def __init__(self,in_channels,out_channels):\n",
        "        super(MyBestCNN,self).__init__()\n",
        "        self.conv1 = ConvBatSeLu(in_channels=in_channels,out_channels=16)\n",
        "        self.pool1 = nn.MaxPool2d(2, 2)\n",
        "        self.conv2 = ConvBatSeLu(in_channels=16,out_channels=16)\n",
        "        self.linear = nn.Linear(in_features=16*10*10,out_features=out_channels)\n",
        "        \n",
        "    def forward(self, x):\n",
        "        x = self.conv1(x)\n",
        "        x = self.pool1(x)\n",
        "        x = self.conv2(x)\n",
        "        x = x.view(-1,16*10*10)\n",
        "        return self.linear(x)\n",
        "\n",
        "\n",
        "# Train the CNN \n",
        "epoch = 10\n",
        "lr = 1e-2\n",
        "n_input = 3072\n",
        "n_classes = 10\n",
        "batch_size = 64\n",
        "num_workers = 2\n",
        "\n",
        "train_loader = torch.utils.data.DataLoader(trainset, batch_size=64, shuffle=True, num_workers=2)\n",
        "test_loader = torch.utils.data.DataLoader(testset, batch_size=100, shuffle=False, num_workers=2)\n",
        "\n",
        "model = MyBestCNN(3,10)\n",
        "optimizer = torch.optim.SGD(model.parameters(), lr=lr)\n",
        "loss_fn = nn.CrossEntropyLoss()\n",
        "\n",
        "\n",
        "for e in range(epoch):\n",
        "    loss_epoch = 0\n",
        "    for x, y in train_loader:\n",
        "        y_pred = model.forward(x)\n",
        "        loss = loss_fn(y_pred,y)\n",
        "        optimizer.zero_grad()\n",
        "        loss.backward()\n",
        "        optimizer.step()\n",
        "        loss_epoch += loss.item()\n",
        "    print(f'Epcoh {e}: {loss_epoch}')\n",
        "\n",
        "model.eval()\n",
        "train_acc = get_model_acc(model, train_loader)\n",
        "test_acc = get_model_acc(model, test_loader)\n",
        "print(f'Training accuracy: {train_acc}, Testing accuracy: {test_acc}')\n",
        "\n",
        "################################################################################\n",
        "#                                 END OF YOUR CODE                             #\n",
        "################################################################################"
      ],
      "execution_count": null,
      "outputs": []
    },
    {
      "cell_type": "code",
      "metadata": {
        "id": "5eM-GIKULDFd",
        "colab_type": "code",
        "colab": {}
      },
      "source": [
        "# The result:\n",
        "\n",
        "Epcoh 0: 1184.8225207328796\n",
        "Epcoh 1: 963.2583043575287\n",
        "Epcoh 2: 879.5836268663406\n",
        "Epcoh 3: 831.4896352291107\n",
        "Epcoh 4: 790.4476766586304\n",
        "Epcoh 5: 761.3781149983406\n",
        "Epcoh 6: 736.0012830495834\n",
        "Epcoh 7: 717.3178885877132\n",
        "Epcoh 8: 701.5758913755417\n",
        "Epcoh 9: 686.2442553639412\n",
        "tensor(33978)\n",
        "tensor(6492)\n",
        "Training accuracy: 67.95600128173828, Testing accuracy: 64.92000579833984"
      ],
      "execution_count": null,
      "outputs": []
    },
    {
      "cell_type": "markdown",
      "metadata": {
        "id": "PTiQAmH3LDFp",
        "colab_type": "text"
      },
      "source": [
        "The CNN has 2 layers.The design and hyperparameter is the same with previous CNN, which has 55% accuracy on test dataset. Here, we make improvement by introducing batchnorm layer before each convolutional layers. Keeping all other things unchanged,we get a result with accuracy around 65% on test dataset. "
      ]
    }
  ]
}