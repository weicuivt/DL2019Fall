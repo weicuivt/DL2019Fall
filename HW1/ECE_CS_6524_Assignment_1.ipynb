{
  "nbformat": 4,
  "nbformat_minor": 0,
  "metadata": {
    "kernelspec": {
      "display_name": "Python 3",
      "language": "python",
      "name": "python3"
    },
    "language_info": {
      "codemirror_mode": {
        "name": "ipython",
        "version": 3
      },
      "file_extension": ".py",
      "mimetype": "text/x-python",
      "name": "python",
      "nbconvert_exporter": "python",
      "pygments_lexer": "ipython3",
      "version": "3.7.4"
    },
    "colab": {
      "name": "ECE-CS 6524 - Assignment 1.ipynb",
      "provenance": [],
      "include_colab_link": true
    }
  },
  "cells": [
    {
      "cell_type": "markdown",
      "metadata": {
        "id": "view-in-github",
        "colab_type": "text"
      },
      "source": [
        "<a href=\"https://colab.research.google.com/github/weicuivt/DL2019Fall/blob/master/HW1/ECE_CS_6524_Assignment_1.ipynb\" target=\"_parent\"><img src=\"https://colab.research.google.com/assets/colab-badge.svg\" alt=\"Open In Colab\"/></a>"
      ]
    },
    {
      "cell_type": "markdown",
      "metadata": {
        "id": "ch9_E2AK3FfT",
        "colab_type": "text"
      },
      "source": [
        "# ECE-6524 / CS-6524 Deep Learning\n",
        "# Assignment 1\n",
        "\n",
        "In this assignment, **you need to complete the following three sectoins**:\n",
        "1. SVM Classifier\n",
        "    - Calculating loss and gradient\n",
        "2. Linear Classfier with Softmax \n",
        "    - Calculating loss and gradient\n",
        "3. Simple Neural Network with Multilayer Perceptrons\n",
        "    - Read the forward and backward propogation\n",
        "    - Experiment with simple NN\n",
        "\n",
        "This assignment is inspired and adopted from Stanford CS231n, UIUC Deep Learning course and Deep Learning Lab from Professor Vicente Ordonez at the University of Virginia.\n",
        "## Submission guideline\n",
        "\n",
        "1. Click the Save button at the top of the Jupyter Notebook.\n",
        "2. Please make sure to have entered your Virginia Tech PID below.\n",
        "3. Select Cell -> All Output -> Clear. This will clear all the outputs from all cells (but will keep the content of ll cells).\n",
        "4. Select Cell -> Run All. This will run all the cells in order.\n",
        "5. Once you've rerun everything, select File -> Download as -> PDF via LaTeX\n",
        "6. Look at the PDF file and make sure all your solutions are there, displayed correctly. \n",
        "7. Zip BOTH the PDF file and this notebook. Rem\n",
        "8. Submit your zipped file.\n",
        "\n",
        "**While you are encouraged to discuss with your peers, <span style=\"color:blue\">all work submitted is expected to be your own.</span> <span style=\"color:red\">If you use any information from other resources (e.g. online materials), you are required to cite it below you VT PID. Any violation will result in a 0 mark for the assignment.</span>**"
      ]
    },
    {
      "cell_type": "markdown",
      "metadata": {
        "id": "dUc8BviC3FfV",
        "colab_type": "text"
      },
      "source": [
        "### Please Write Your VT PID Here: 905808996\n",
        "### Reference (if any):"
      ]
    },
    {
      "cell_type": "markdown",
      "metadata": {
        "id": "DPDjAxqF3FfY",
        "colab_type": "text"
      },
      "source": [
        "In this homework, you would need to use **Python 3.6+** along with the following packages:\n",
        "```\n",
        "1. numupy\n",
        "2. matplotlib\n",
        "3. scipy\n",
        "```\n",
        "All packages above can be installed through `pip install`.\n",
        "\n",
        "In addition, you will need to have [CIFAR10](https://www.cs.toronto.edu/~kriz/cifar.html) dataset in your `cifar10/cifar-10-batches-py` folder. We provide a bash script `cifar10/get_dataset.sh` to help you download and unpack the dataset.\n",
        "\n",
        "Once you are done with the things above, you can proceed to execute the following cells:"
      ]
    },
    {
      "cell_type": "code",
      "metadata": {
        "id": "XeGOB-9R3FfZ",
        "colab_type": "code",
        "colab": {}
      },
      "source": [
        "import random\n",
        "import numpy as np\n",
        "from data_process import get_CIFAR10_data\n",
        "\n",
        "import math\n",
        "import matplotlib.pyplot as plt\n",
        "%load_ext autoreload\n",
        "%autoreload 2\n",
        "%matplotlib inline\n"
      ],
      "execution_count": null,
      "outputs": []
    },
    {
      "cell_type": "markdown",
      "metadata": {
        "id": "RymL7JQn3Ffn",
        "colab_type": "text"
      },
      "source": [
        "# Loading CIFAR-10"
      ]
    },
    {
      "cell_type": "markdown",
      "metadata": {
        "id": "FtVuqCjN3Ffo",
        "colab_type": "text"
      },
      "source": [
        "In the following cells, we would first load the CIFAR10 dataset, and prepare them for our classifier:"
      ]
    },
    {
      "cell_type": "code",
      "metadata": {
        "id": "bdaOVnwI3Ffq",
        "colab_type": "code",
        "colab": {}
      },
      "source": [
        "# You can change these numbers for experimentation\n",
        "# For submission we will use the default values \n",
        "TRAIN_IMAGES = 49000\n",
        "VAL_IMAGES = 1000\n",
        "TEST_IMAGES = 1000"
      ],
      "execution_count": null,
      "outputs": []
    },
    {
      "cell_type": "markdown",
      "metadata": {
        "id": "W2TFouIc3Ff0",
        "colab_type": "text"
      },
      "source": [
        "Now, we visualize the dataset to get a better idea of it."
      ]
    },
    {
      "cell_type": "code",
      "metadata": {
        "id": "mjX5Hwe_3Ff2",
        "colab_type": "code",
        "colab": {},
        "outputId": "b1016887-d359-465d-9711-3aa6724293cd"
      },
      "source": [
        "# Visualize some examples from the dataset.\n",
        "# We show a few examples of training images from each class.\n",
        "classes = ['plane', 'car', 'bird', 'cat', 'deer', 'dog', 'frog', 'horse', 'ship', 'truck']\n",
        "num_classes = len(classes)\n",
        "samples_per_class = 7\n",
        "for y, cls in enumerate(classes):\n",
        "    idxs = np.flatnonzero(y_train == y)\n",
        "    idxs = np.random.choice(idxs, samples_per_class, replace=False)\n",
        "    for i, idx in enumerate(idxs):\n",
        "        plt_idx = i * num_classes + y + 1\n",
        "        plt.subplot(samples_per_class, num_classes, plt_idx)\n",
        "        plt.imshow(X_train[idx].astype('uint8'))\n",
        "        plt.axis('off')\n",
        "        if i == 0:\n",
        "            plt.title(cls)\n",
        "plt.show()"
      ],
      "execution_count": null,
      "outputs": [
        {
          "output_type": "display_data",
          "data": {
            "image/png": "[encoded data removed]",
            "text/plain": [
              "<Figure size 432x288 with 70 Axes>"
            ]
          },
          "metadata": {
            "tags": [],
            "needs_background": "light"
          }
        }
      ]
    },
    {
      "cell_type": "markdown",
      "metadata": {
        "id": "3tjnCLwC3Ff9",
        "colab_type": "text"
      },
      "source": [
        "We then subtract all the images with the **mean image** of the training set. This trick is commonly used in Computer Vision community, as it arranges the features into a range that is more manageable for the models."
      ]
    },
    {
      "cell_type": "code",
      "metadata": {
        "id": "L0YSIls63Ff_",
        "colab_type": "code",
        "colab": {}
      },
      "source": [
        "mean_image = np.mean(X_train, axis=0)\n",
        "X_train -= mean_image\n",
        "X_val -= mean_image\n",
        "X_test -= mean_image"
      ],
      "execution_count": null,
      "outputs": []
    },
    {
      "cell_type": "markdown",
      "metadata": {
        "id": "9vOON6Pr3FgE",
        "colab_type": "text"
      },
      "source": [
        "Now, we convert the sets of images from dimensions of **(N, 3, 32, 32) -> (N, 3072)** where N is the number of images so that each **3x32x32** image is represented by a single vector. This allows us to feed the data into our classifiers."
      ]
    },
    {
      "cell_type": "code",
      "metadata": {
        "id": "z-rcFCUg3FgF",
        "colab_type": "code",
        "colab": {}
      },
      "source": [
        "X_train = np.reshape(X_train, (X_train.shape[0], -1))\n",
        "X_val = np.reshape(X_val, (X_val.shape[0], -1))\n",
        "X_test = np.reshape(X_test, (X_test.shape[0], -1))"
      ],
      "execution_count": null,
      "outputs": []
    },
    {
      "cell_type": "markdown",
      "metadata": {
        "id": "BhgXgP9e3FgJ",
        "colab_type": "text"
      },
      "source": [
        "Here, we concatenate all the features with ones. This trick is particularly convenient, as in this case, we only need to deal with a single weight matrix $W$ instead of both $W$ and bias $b$ in our training code."
      ]
    },
    {
      "cell_type": "code",
      "metadata": {
        "id": "nrw8aC6R3FgK",
        "colab_type": "code",
        "colab": {}
      },
      "source": [
        "X_train = np.hstack([X_train, np.ones((X_train.shape[0], 1))])\n",
        "X_val = np.hstack([X_val, np.ones((X_val.shape[0], 1))])\n",
        "X_test = np.hstack([X_test, np.ones((X_test.shape[0], 1))])"
      ],
      "execution_count": null,
      "outputs": []
    },
    {
      "cell_type": "code",
      "metadata": {
        "id": "4r7BkI5i3FgQ",
        "colab_type": "code",
        "colab": {},
        "outputId": "e7b195f3-a4d9-49fa-fbf6-09aa811877aa"
      },
      "source": [
        "# you should get the following output:\n",
        "# (49000, 3073)\n",
        "# (1000, 3073)\n",
        "# (1000, 3073)\n",
        "print(X_train.shape)\n",
        "print(X_val.shape)\n",
        "print(X_test.shape)"
      ],
      "execution_count": null,
      "outputs": [
        {
          "output_type": "stream",
          "text": [
            "(49000, 3073)\n",
            "(1000, 3073)\n",
            "(1000, 3073)\n"
          ],
          "name": "stdout"
        }
      ]
    },
    {
      "cell_type": "markdown",
      "metadata": {
        "id": "fb6GafT83FgU",
        "colab_type": "text"
      },
      "source": [
        "### Calculate Classification Accuracy"
      ]
    },
    {
      "cell_type": "markdown",
      "metadata": {
        "id": "in4YN7S_3FgV",
        "colab_type": "text"
      },
      "source": [
        "Here is a simple helper function for calculation the classification accuracy:"
      ]
    },
    {
      "cell_type": "code",
      "metadata": {
        "id": "jGKSH2PY3FgV",
        "colab_type": "code",
        "colab": {}
      },
      "source": [
        "def get_acc(pred, y_test):\n",
        "    return np.sum(y_test==pred)/len(y_test)*100"
      ],
      "execution_count": null,
      "outputs": []
    },
    {
      "cell_type": "markdown",
      "metadata": {
        "id": "tfQLldzn3FgY",
        "colab_type": "text"
      },
      "source": [
        "# Section 1. Support Vector Machines (with SGD) [30 pts]"
      ]
    },
    {
      "cell_type": "markdown",
      "metadata": {
        "id": "7tw7I39o3FgZ",
        "colab_type": "text"
      },
      "source": [
        "In this section, you will need to implement a **soft margin SVM** for a **multi-class classification problem**. In the soft margin SVM, you will maximize the margin between positive and negative training examples and penalize margin violations using a hinge loss.\n",
        "\n",
        "We will optimize the SVM loss using SGD. This means you must compute the loss function with respect to model weights. You will use this gradient to update the model weights.\n",
        "\n",
        "SVM optimized with SGD has 3 hyperparameters that you can experiment with :\n",
        "- `lr` - the learning rate of your model. This parameter scales by how much the weights are changed according to the calculated gradient update\n",
        "- `n_iter` - the number of training batches you are gonna use for updating your model.\n",
        "- `reg_const` - Hyperparameter to determine the strength of regularization. In this case it is a coefficient on the term which maximizes the margin."
      ]
    },
    {
      "cell_type": "markdown",
      "metadata": {
        "id": "ZybWkIqn3Fga",
        "colab_type": "text"
      },
      "source": [
        "## 1.1. Implementing SVM with SGD [25 pts]\n",
        "\n",
        "Recall that the multiclass SVM loss can be written as:\n",
        "\\begin{align}\n",
        "\\begin{gathered}\n",
        "s=f(x_i, W) \\\\\n",
        "L_i = \\sum_{j\\neq y_i} \\left[ \\max(0, s_j - s_{y_i} + margin) \\right]\n",
        "\\end{gathered}\n",
        "\\end{align}\n",
        "where $s={s_j}$ is the vector of prediction scores of all class, $s_j$ is the prediction score for class $j$, and $y_i$ is the groud truth class label. The margin is usually set to 1. Now, to learn the weights $W$, we can differentiate the function $L_i$ to get the gradient:\n",
        "\\begin{equation}\n",
        "\\begin{gathered}\n",
        "\\nabla_{w_{y_i}} L_i = - \\left( \\sum_{j\\neq y_i} \\mathbb{1}(w_j^Tx_i - w_{y_i}^Tx_i + 1 > 0) \\right) x_i\\\\\n",
        "\\end{gathered}\n",
        "\\end{equation}\n",
        "where $\\mathbb{1}$ is the indicator function that is one if the condition inside is true or zero otherwise, and $w_j$ represents the row $j$ in your weight matrix $W$. To implement this, you’d simply count the number of classes that didn’t meet the desired margin 1 (and hence contributed to the loss function) and then the data vector $x_i$ scaled by this number is the gradient. Note that, in the equation above, we are only calculating the gradient with respect to the row of $W$ that corresponds to the correct class $y_i$. For the other rows $j\\neq y_i$, we have:\n",
        "\\begin{equation}\n",
        "\\nabla_{w_j} L_i = \\mathbb{1}(w_j^Tx_i - w_{y_i}^Tx_i + 1 > 0) x_i\n",
        "\\end{equation}\n",
        "Now, we have derived the gradient expression above, it is time to turn these equations into the actual running code.\n",
        "We provide a template for implementing your SVM classfier below. You have to fill in the **TODO** part, and train your classifier."
      ]
    },
    {
      "cell_type": "code",
      "metadata": {
        "id": "d-9Gjaox3Fga",
        "colab_type": "code",
        "colab": {}
      },
      "source": [
        " \n",
        "class SVM():\n",
        "    def __init__(self, input_size, output_size):\n",
        "        \"\"\"\n",
        "        Initialises Softmax classifier with initializing \n",
        "        weights, alpha(learning rate), number of epochs\n",
        "        and regularization constant.\n",
        "        \"\"\"\n",
        "        self.input_size = input_size\n",
        "        self.output_size = output_size\n",
        "        self.w = np.random.randn(input_size, output_size) * 0.001\n",
        "        \n",
        "    def calc_grad_and_loss(self, X_train, y_train, reg, margin):\n",
        "        \"\"\"\n",
        "          Calculate gradient of the svm hinge loss.\n",
        "          \n",
        "          Inputs have dimension D, there are C classes, and we operate on minibatches\n",
        "          of N examples.\n",
        "\n",
        "          Inputs:\n",
        "          - X_train: A numpy array of shape (N, D) containing a minibatch of data.\n",
        "          - y_train: A numpy array of shape (N,) containing training labels; y[i] = c means\n",
        "            that X[i] has label c, where 0 <= c < C.\n",
        "          - reg: A float number Regularization strength;\n",
        "          - margin: A float number margin for the multi-class SVM loss (usually set to 1);\n",
        "\n",
        "          Returns:\n",
        "          - gradient with respect to weights w; an array of same shape as w;\n",
        "          - multi-class SVM loss;\n",
        "        \"\"\"\n",
        "        ################################################################################\n",
        "        # TODO:                                                                        #\n",
        "        # Calculate the loss and gradient for the SVM classifier.                      #\n",
        "        ################################################################################\n",
        "        \n",
        "        tw=self.w.transpose()\n",
        "        \n",
        "        grad_w=np.zeros((self.output_size,self.input_size))\n",
        "        loss=0.0\n",
        "        \n",
        "        for i in range(len(X_train)):\n",
        "            tgrad_w=np.zeros((self.output_size,self.input_size))\n",
        "            temp=0.0\n",
        "            \n",
        "            for j in range(self.output_size):\n",
        "                tloss=np.dot(tw[j]-tw[y_train[i]], X_train[i]) + margin\n",
        "                if j!=y_train[i] and tloss > 0.0:\n",
        "                    tgrad_w[j] = X_train[i]\n",
        "                    temp+=1\n",
        "                    loss+=tloss\n",
        "                            \n",
        "            tgrad_w[y_train[i]] = - temp * X_train[i]\n",
        "            grad_w+=tgrad_w\n",
        "            \n",
        "        grad_w=grad_w.transpose()/len(X_train) + reg*2.0*self.w\n",
        "        loss=loss/len(X_train)+reg*np.sum(self.w)\n",
        "    \n",
        "        \n",
        "        ################################################################################\n",
        "        #                                 END OF YOUR CODE                             #\n",
        "        ################################################################################\n",
        "\n",
        "        return grad_w, loss\n",
        "        \n",
        "    def train(self, X_train, y_train, lr=0.01, reg_const=0.05, margin=1.0, \n",
        "              n_iters=1500, batch_size=200):\n",
        "        \"\"\"\n",
        "        Train SVM classifier by taking one Stochastic Gradient Descent update\n",
        "        on the input minibatch.\n",
        "\n",
        "        Inputs:\n",
        "        - X_train: A numpy array of shape (N, D) containing training data;\n",
        "        N examples with D dimensions\n",
        "        - y_train: A numpy array of shape (N,) containing training labels;\n",
        "        - lr: A float number learning rate;\n",
        "        - reg_const: A float number Regularization strength;\n",
        "        - margin: A float number margin for the multi-class SVM loss (usually set to 1);\n",
        "        - n_iters: An integer number indicating the number of training iteration;\n",
        "        - batch_size: An integer indicating the number of samples per batch;\n",
        "        Returns:\n",
        "        - loss: Loss for this particular input batch.\n",
        "        \"\"\"\n",
        "        loss_hist = []\n",
        "\n",
        "        for i in range(n_iter):\n",
        "            batch_indices = np.random.choice(len(X_train), batch_size)\n",
        "            X_batch = X_train[batch_indices]\n",
        "            y_batch = y_train[batch_indices]\n",
        "            grad, loss = self.calc_grad_and_loss(X_batch, y_batch, reg_const, margin)\n",
        "            self.w -= lr * grad\n",
        "            if (i + 1) % 500 == 0:\n",
        "                print(f'Iter {i+1}/{n_iter} - loss: {loss} ')\n",
        "            loss_hist.append(loss)\n",
        "        return loss_hist\n",
        "\n",
        "    def predict(self, X_test):\n",
        "        \"\"\"\n",
        "        Use the trained weights of svm classifier to predict labels for\n",
        "        data points.\n",
        "\n",
        "        Inputs:\n",
        "        - X_test: A numpy array of shape (N, D) containing training data; there are N\n",
        "          training samples each of dimension D.\n",
        "\n",
        "        Returns:\n",
        "        - pred: Predicted labels for the data in X_test. pred is a 1-dimensional\n",
        "          array of length N, and each element is an integer giving the predicted\n",
        "          class.\n",
        "        \"\"\"\n",
        "        ################################################################################\n",
        "        # TODO:                                                                        #\n",
        "        # Make a prediction based on your classifier weights                           #\n",
        "        ################################################################################\n",
        "        \n",
        "        pred = []\n",
        "        for i in range(len(X_test)):\n",
        "            s=np.dot(self.w.transpose(), X_test[i])\n",
        "            pred.append(np.argmax(s))\n",
        "\n",
        "        ################################################################################\n",
        "        #                                 END OF YOUR CODE                             #\n",
        "        ################################################################################\n",
        "        return pred\n",
        "    \n"
      ],
      "execution_count": null,
      "outputs": []
    },
    {
      "cell_type": "markdown",
      "metadata": {
        "id": "_dNOh5-H3Fgd",
        "colab_type": "text"
      },
      "source": [
        "### Train your SVM\n",
        "Now, train your SVM classifier. You should expect the loss decreases as the training goes on."
      ]
    },
    {
      "cell_type": "code",
      "metadata": {
        "id": "m3DqFPnz3Fge",
        "colab_type": "code",
        "colab": {},
        "outputId": "98c8b2d8-2807-4ef1-8f8f-6aec411be124"
      },
      "source": [
        "print(y_train[2])"
      ],
      "execution_count": null,
      "outputs": [
        {
          "output_type": "stream",
          "text": [
            "9\n"
          ],
          "name": "stdout"
        }
      ]
    },
    {
      "cell_type": "code",
      "metadata": {
        "id": "dwkOBGrI3Fgh",
        "colab_type": "code",
        "colab": {},
        "outputId": "eabdf167-7046-44b2-91d5-b85b3c5a7c29"
      },
      "source": [
        "n_iter = 1500\n",
        "batch_size = 200\n",
        "num_classes = np.max(y_train) + 1\n",
        "num_features = X_train.shape[1]\n",
        "print(num_features, num_classes)\n",
        "svm = SVM(num_features, num_classes)\n",
        "loss_hist = svm.train(X_train, y_train, lr=1e-7, reg_const=5e3, n_iters=1500,)\n"
      ],
      "execution_count": null,
      "outputs": [
        {
          "output_type": "stream",
          "text": [
            "3073 10\n",
            "Iter 500/1500 - loss: -432.72648662217205 \n",
            "Iter 1000/1500 - loss: -261.2253924869519 \n",
            "Iter 1500/1500 - loss: -156.74313272613335 \n"
          ],
          "name": "stdout"
        }
      ]
    },
    {
      "cell_type": "markdown",
      "metadata": {
        "id": "c33qPcY23Fgk",
        "colab_type": "text"
      },
      "source": [
        "### Plot the Loss Curve\n",
        "Plotting the loss curve is a proper etiquette for Machine Learning/Deep Learning practitioner."
      ]
    },
    {
      "cell_type": "code",
      "metadata": {
        "id": "crlvY6nO3Fgk",
        "colab_type": "code",
        "colab": {},
        "outputId": "607939a7-390e-4b64-f512-369f6bc2c5d6"
      },
      "source": [
        "plt.plot(loss_hist);\n",
        "plt.ylabel('loss');\n",
        "plt.xlabel('iteration');"
      ],
      "execution_count": null,
      "outputs": [
        {
          "output_type": "display_data",
          "data": {
            "image/png": "[encoded data removed]",
            "text/plain": [
              "<Figure size 432x288 with 1 Axes>"
            ]
          },
          "metadata": {
            "tags": [],
            "needs_background": "light"
          }
        }
      ]
    },
    {
      "cell_type": "markdown",
      "metadata": {
        "id": "WkbQU1uJ3Fgn",
        "colab_type": "text"
      },
      "source": [
        "### Accuracy?\n",
        "If the SVM is implemented correctly, you shuold get an training/validation accuracy around 34%-35%."
      ]
    },
    {
      "cell_type": "code",
      "metadata": {
        "id": "8Up3MJcW3Fgo",
        "colab_type": "code",
        "colab": {},
        "outputId": "b10143e1-a01c-45e2-e540-06b6f4f705dd"
      },
      "source": [
        "pred_svm = svm.predict(X_train)\n",
        "print('The training accuracy is given by : %f' % (get_acc(pred_svm, y_train)))\n",
        "pred_svm = svm.predict(X_val)\n",
        "print('The validation accuracy is given by : %f' % (get_acc(pred_svm, y_val)))"
      ],
      "execution_count": null,
      "outputs": [
        {
          "output_type": "stream",
          "text": [
            "The training accuracy is given by : 37.114286\n",
            "The validation accuracy is given by : 38.600000\n"
          ],
          "name": "stdout"
        }
      ]
    },
    {
      "cell_type": "markdown",
      "metadata": {
        "id": "1pD6Ng9D3Fgr",
        "colab_type": "text"
      },
      "source": [
        "## Section 1.2. Improve your SVM [5 pts]\n",
        "Now, try to improve the accuracy of your classifier. You can perform hyperparameter search with cross-validation, or conduct some extra preprocessing on the data. **Note that you should never use the `X_test` and `y_test` for tuning your model.**"
      ]
    },
    {
      "cell_type": "code",
      "metadata": {
        "id": "kTUOBhCR3Fgr",
        "colab_type": "code",
        "colab": {},
        "outputId": "723e94aa-8518-4435-e30f-84a0a9adff8a"
      },
      "source": [
        "# How can you improve it?\n",
        "\n",
        "#Answer:\n",
        "# 1. Improvence: search better strength of regularization and keep other parameters unchanged. \n",
        "# 2. Method: 3 fold cross-validation.\n",
        "# 3. code: \n",
        "\n",
        "from sklearn.model_selection import KFold\n",
        "\n",
        "reg_list=[1,1e2,1e3,5e3,1e4]\n",
        "acu_list=[]\n",
        "\n",
        "Xdata=np.concatenate((X_train, X_val), axis=0)\n",
        "ydata=np.concatenate((y_train, y_val), axis=0)\n",
        "\n",
        "n_iter = 500\n",
        "batch_size = 200\n",
        "\n",
        "for i in range(len(reg_list)):\n",
        "    \n",
        "    kf = KFold(n_splits=5)\n",
        "    ttt_list=[]\n",
        "    \n",
        "    for train_index, val_index in kf.split(Xdata):\n",
        "        \n",
        "        X_train, X_val = Xdata[train_index], Xdata[val_index]\n",
        "        y_train, y_val = ydata[train_index], ydata[val_index]\n",
        "        \n",
        "        num_classes = np.max(y_train) + 1\n",
        "        num_features = X_train.shape[1]\n",
        "        svm = SVM(num_features, num_classes)\n",
        "        loss_hist = svm.train(X_train, y_train, lr=1e-7, reg_const=reg_list[i], n_iters=500,)\n",
        "        pred_svm = svm.predict(X_val)\n",
        "        ttt_list.append(get_acc(pred_svm, y_val))\n",
        "        \n",
        "    print(ttt_list)\n",
        "    acu_list.append(np.sum(ttt_list)/5.0)\n",
        "    \n",
        "\n",
        "print(acu_list)\n",
        "\n",
        "plt.plot(reg_list,acu_list,'bo');\n",
        "plt.ylabel('acuracy');\n",
        "plt.xlabel('strength of regularization');\n",
        "    \n",
        "    "
      ],
      "execution_count": null,
      "outputs": [
        {
          "output_type": "stream",
          "text": [
            "Iter 500/500 - loss: 8.771002218079852 \n",
            "Iter 500/500 - loss: 8.002548597534435 \n",
            "Iter 500/500 - loss: 7.394684326389536 \n",
            "Iter 500/500 - loss: 7.655969168114852 \n",
            "Iter 500/500 - loss: 7.928315708052368 \n",
            "[26.55, 25.86, 25.919999999999998, 25.540000000000003, 25.97]\n",
            "Iter 500/500 - loss: 15.228036242289061 \n",
            "Iter 500/500 - loss: -9.201583916035098 \n",
            "Iter 500/500 - loss: 16.238737239436546 \n",
            "Iter 500/500 - loss: -11.40044320443876 \n",
            "Iter 500/500 - loss: 0.2023618401052829 \n",
            "[26.63, 26.810000000000002, 26.790000000000003, 25.790000000000003, 27.189999999999998]\n",
            "Iter 500/500 - loss: -136.2186348407758 \n",
            "Iter 500/500 - loss: 38.31970967496497 \n",
            "Iter 500/500 - loss: -167.77652531109203 \n",
            "Iter 500/500 - loss: -212.46789997194674 \n",
            "Iter 500/500 - loss: -165.3930853244278 \n",
            "[26.69, 27.200000000000003, 26.619999999999997, 27.04, 26.950000000000003]\n",
            "Iter 500/500 - loss: -376.18642147238205 \n",
            "Iter 500/500 - loss: -344.97852725525826 \n",
            "Iter 500/500 - loss: -64.46325357750025 \n",
            "Iter 500/500 - loss: 158.54041854551346 \n",
            "Iter 500/500 - loss: 736.7989639178448 \n",
            "[28.660000000000004, 27.889999999999997, 29.13, 28.54, 28.24]\n",
            "Iter 500/500 - loss: 1154.5669315750447 \n",
            "Iter 500/500 - loss: -745.8337369033069 \n",
            "Iter 500/500 - loss: -581.7712519832343 \n",
            "Iter 500/500 - loss: -645.9727717455726 \n",
            "Iter 500/500 - loss: 611.8011552292213 \n",
            "[31.209999999999997, 31.169999999999998, 31.56, 31.0, 30.680000000000003]\n",
            "[25.968, 26.642000000000003, 26.9, 28.492, 31.124000000000002]\n"
          ],
          "name": "stdout"
        },
        {
          "output_type": "display_data",
          "data": {
            "image/png": "[encoded data removed]",
            "text/plain": [
              "<Figure size 432x288 with 1 Axes>"
            ]
          },
          "metadata": {
            "tags": [],
            "needs_background": "light"
          }
        }
      ]
    },
    {
      "cell_type": "markdown",
      "metadata": {
        "id": "W2RLMvB83Fgu",
        "colab_type": "text"
      },
      "source": [
        "### Test SVM\n",
        "Finally, evaluate the testing accuracy of your SVM:"
      ]
    },
    {
      "cell_type": "code",
      "metadata": {
        "id": "yaIlPQf43Fgu",
        "colab_type": "code",
        "colab": {},
        "outputId": "37463032-6218-4fc1-bd60-21191663a54f"
      },
      "source": [
        "# Run linear classifier again with best regularization\n",
        "# Data set is sperated with 49000 and 1000 as train and validate data \n",
        "\n",
        "X_train, y_train = Xdata[0:49000], ydata[0:49000]\n",
        "        \n",
        "num_classes = np.max(y_train) + 1\n",
        "num_features = X_train.shape[1]\n",
        "svm = SVM(num_features, num_classes)\n",
        "loss_hist = svm.train(X_train, y_train, lr=1e-7, reg_const=reg_list[np.argmax(acu_list)], n_iters=1500,)\n",
        "\n",
        "pred_svm = svm.predict(X_test)\n",
        "print('The testing accuracy is given by : %f' % (get_acc(pred_svm, y_test)))"
      ],
      "execution_count": null,
      "outputs": [
        {
          "output_type": "stream",
          "text": [
            "Iter 500/500 - loss: -589.7616684289617 \n",
            "The testing accuracy is given by : 31.700000\n"
          ],
          "name": "stdout"
        }
      ]
    },
    {
      "cell_type": "markdown",
      "metadata": {
        "id": "XyfgPNZs3Fgy",
        "colab_type": "text"
      },
      "source": [
        "# Section 2. Softmax Classifier (with SGD) [30 pts]"
      ]
    },
    {
      "cell_type": "markdown",
      "metadata": {
        "collapsed": true,
        "id": "k57HgcGS3Fgy",
        "colab_type": "text"
      },
      "source": [
        "Next, you will train a Softmax classifier. This classifier consists of a linear function of the input data followed by a softmax function which outputs a vector of dimension C (number of classes) for each data point. Each entry of the softmax output vector corresponds to a confidence in one of the C classes, and like a probability distribution, the entries of the output vector sum to 1. \n",
        "\n",
        "## Section 2.1. Implement the Softmax Classifier [25 pts]\n",
        "Recall that, from the lecture, we can write down the loss function as:\n",
        "\\begin{align}\n",
        "\\begin{gathered}\n",
        "s=f(x_i, W) \\\\\n",
        "L_i = -\\log\\left({\\frac{e^{s_{y_i}}} {\\sum_j e^{s_j}} }\\right)\n",
        "\\end{gathered}\n",
        "\\end{align}\n",
        "\n",
        "And, through some calculations, we can obtain the expression for the gradient:\n",
        "\\begin{align}\n",
        "\\nabla_{w_{l}} L_i = \\left(\\frac{e^{w_l^Tx_i}} {\\sum_j e^{w_j^Tx_i}} - \\mathbb{1}\\left(y_i=l\\right)\\right) x_i\\\\\n",
        "\\end{align}\n"
      ]
    },
    {
      "cell_type": "markdown",
      "metadata": {
        "id": "_g5_SRPu3Fgy",
        "colab_type": "text"
      },
      "source": [
        "The softmax classifier also has 3 hyperparameters that you can experiment with :\n",
        "- `lr` - the learning rate of your model. This parameter scales by how much the weights are changed according to the calculated gradient update\n",
        "- `n_iter` - the number of training batches you are gonna use for updating your model.\n",
        "- `reg_const` - Hyperparameter to determine the strength of regularization. In this case it is a coefficient on the term which maximizes the margin."
      ]
    },
    {
      "cell_type": "markdown",
      "metadata": {
        "id": "0-TIEn9O3Fgz",
        "colab_type": "text"
      },
      "source": [
        "Same as the previous section, we provide a template for you to implement your classifier:"
      ]
    },
    {
      "cell_type": "code",
      "metadata": {
        "id": "pm4amf-H3Fgz",
        "colab_type": "code",
        "colab": {}
      },
      "source": [
        " class Softmax_Classfier():\n",
        "    def __init__(self, input_size, output_size):\n",
        "        \"\"\"\n",
        "        Initialises Softmax classifier with initializing \n",
        "        weights, alpha(learning rate), number of epochs\n",
        "        and regularization constant.\n",
        "        \"\"\"\n",
        "        self.input_size = input_size\n",
        "        self.output_size = output_size\n",
        "        self.w = np.random.randn(input_size, output_size) * 0.001\n",
        "    \n",
        "    def softmax(self, logits):\n",
        "        ################################################################################\n",
        "        # TODO:                                                                        #\n",
        "        # Implement the softmax function here.                                         #\n",
        "        ################################################################################\n",
        "        plist=[]\n",
        "        for j in range(self.output_size):\n",
        "            plist.append(math.exp(logits[j]))\n",
        "        tot=np.sum(plist)\n",
        "        probs=plist/tot\n",
        "\n",
        "        \n",
        "        ################################################################################\n",
        "        #                                 END OF YOUR CODE                             #\n",
        "        ################################################################################\n",
        "        return probs\n",
        "    \n",
        "    def calc_grad_and_loss(self, X_train, y_train, reg_const, margin):\n",
        "        \"\"\"\n",
        "          Calculate gradient of the svm hinge loss.\n",
        "          \n",
        "          Inputs have dimension D, there are C classes, and we operate on minibatches\n",
        "          of N examples.\n",
        "\n",
        "          Inputs:\n",
        "          - X_train: A numpy array of shape (N, D) containing a minibatch of data.\n",
        "          - y_train: A numpy array of shape (N,) containing training labels; y[i] = c means\n",
        "            that X[i] has label c, where 0 <= c < C.\n",
        "          - reg: A float number Regularization strength;\n",
        "          - margin: A float number margin for the multi-class SVM loss (usually set to 1);\n",
        "\n",
        "          Returns:\n",
        "          - gradient with respect to weights w; an array of same shape as w;\n",
        "          - multi-class SVM loss;\n",
        "         \"\"\" \n",
        "        ################################################################################\n",
        "        # TODO:                                                                        #\n",
        "        # Calculate the loss and gradient for the SVM classifier.                      #\n",
        "        ################################################################################\n",
        "        \n",
        "        tw=self.w.transpose()\n",
        "        grad_w=np.zeros((self.output_size,self.input_size))\n",
        "        loss=0.0\n",
        "        \n",
        "        \n",
        "        for i in range(len(X_train)):\n",
        "            sj=[]\n",
        "            for j in range(self.output_size):\n",
        "                sj.append(np.dot(tw[j], X_train[i]))\n",
        "            prob=self.softmax(sj)\n",
        "            \n",
        "            loss=loss-math.log(prob[y_train[i]])\n",
        "            \n",
        "            tgrad_w=np.zeros((self.output_size,self.input_size))\n",
        "            for j in range(self.output_size):\n",
        "                if j== y_train[i]:\n",
        "                    tgrad_w[j] = (prob[j]-1.0)*X_train[i]\n",
        "                else: \n",
        "                    tgrad_w[j] = prob[j]*X_train[i]\n",
        "            grad_w+=tgrad_w\n",
        "            \n",
        "        grad_w=grad_w.transpose()/len(X_train)+reg_const*2.0*self.w\n",
        "        loss=loss/len(X_train)+reg_const*np.sum(self.w)\n",
        "     \n",
        "        ################################################################################\n",
        "        #                                 END OF YOUR CODE                             #\n",
        "        ################################################################################\n",
        "        return grad_w, loss\n",
        "        \n",
        "    def train(self, X_train, y_train, lr=0.01, reg_const=0.05, margin=1.0, \n",
        "              n_iters=1500, batch_size=200):\n",
        "        \"\"\"\n",
        "        Train softmax classifier by taking one Stochastic Gradient Descent update\n",
        "        on the input minibatch.\n",
        "\n",
        "        Inputs:\n",
        "        - X_train: A numpy array of shape (N, D) containing training data;\n",
        "        N examples with D dimensions\n",
        "        - y_train: A numpy array of shape (N,) containing training labels;\n",
        "        - lr: A float number learning rate;\n",
        "        - reg_const: A float number Regularization strength;\n",
        "        - margin: A float number margin for the multi-class SVM loss (usually set to 1);\n",
        "        - n_iters: An integer number indicating the number of training iteration;\n",
        "        - batch_size: An integer indicating the number of samples per batch;\n",
        "        Returns:\n",
        "        - loss: Loss for this particular input batch.\n",
        "        \"\"\"\n",
        "        loss_hist = []\n",
        "\n",
        "        for i in range(n_iter):\n",
        "            batch_indices = np.random.choice(len(X_train), batch_size)\n",
        "            X_batch = X_train[batch_indices]\n",
        "            y_batch = y_train[batch_indices]\n",
        "            grad, loss = self.calc_grad_and_loss(X_batch, y_batch, reg_const, margin)\n",
        "            self.w -= lr * grad\n",
        "            if (i + 1) % 500 == 0:\n",
        "                print(f'Iter {i+1}/{n_iter} - loss: {loss} ')\n",
        "            loss_hist.append(loss)\n",
        "        return loss_hist\n",
        "\n",
        "    def predict(self, X_test):\n",
        "        \"\"\"\n",
        "        Use the trained weights of svm classifier to predict labels for\n",
        "        data points.\n",
        "\n",
        "        Inputs:\n",
        "        - X_test: A numpy array of shape (N, D) containing training data; there are N\n",
        "          training samples each of dimension D.\n",
        "\n",
        "        Returns:\n",
        "        - pred: Predicted labels for the data in X_test. pred is a 1-dimensional\n",
        "          array of length N, and each element is an integer giving the predicted\n",
        "          class.\n",
        "        \"\"\"\n",
        "        ################################################################################\n",
        "        # TODO:                                                                        #\n",
        "        # Make a prediction based on your classifier weights                           #\n",
        "        ################################################################################\n",
        "        \n",
        "        pred = []\n",
        "        for i in range(len(X_test)):\n",
        "            s=np.dot(self.w.transpose(), X_test[i])\n",
        "            pred.append(np.argmax(s))\n",
        "\n",
        "        ################################################################################\n",
        "        #                                 END OF YOUR CODE                             #\n",
        "        ################################################################################\n",
        "        return pred\n"
      ],
      "execution_count": null,
      "outputs": []
    },
    {
      "cell_type": "code",
      "metadata": {
        "id": "yVEhrv5K3Fg2",
        "colab_type": "code",
        "colab": {},
        "outputId": "873d33fb-f013-4509-f5e9-053e9756f43f"
      },
      "source": [
        "n_iter = 1500\n",
        "batch_size = 200\n",
        "num_classes = np.max(y_train) + 1\n",
        "num_features = X_train.shape[1]\n",
        "print(num_features, num_classes)\n",
        "softmax_classifier = Softmax_Classfier(num_features, num_classes)\n",
        "loss_hist = softmax_classifier.train(X_train, y_train, lr=1e-7, reg_const=5e3, n_iters=1500,)"
      ],
      "execution_count": null,
      "outputs": [
        {
          "output_type": "stream",
          "text": [
            "3073 10\n",
            "Iter 500/1500 - loss: 103.76262737568847 \n",
            "Iter 1000/1500 - loss: 63.67548997577142 \n",
            "Iter 1500/1500 - loss: 39.244628669067936 \n"
          ],
          "name": "stdout"
        }
      ]
    },
    {
      "cell_type": "markdown",
      "metadata": {
        "id": "PgnlrulT3Fg5",
        "colab_type": "text"
      },
      "source": [
        "Again, plot the loss:"
      ]
    },
    {
      "cell_type": "code",
      "metadata": {
        "id": "7oI1rRvh3Fg6",
        "colab_type": "code",
        "colab": {},
        "outputId": "b411143d-076e-42d6-d091-2ce9594cbc6c"
      },
      "source": [
        "plt.plot(loss_hist);\n",
        "plt.ylabel('loss');\n",
        "plt.xlabel('iteration');"
      ],
      "execution_count": null,
      "outputs": [
        {
          "output_type": "display_data",
          "data": {
            "image/png": "[encoded data removed]",
            "text/plain": [
              "<Figure size 432x288 with 1 Axes>"
            ]
          },
          "metadata": {
            "tags": [],
            "needs_background": "light"
          }
        }
      ]
    },
    {
      "cell_type": "markdown",
      "metadata": {
        "id": "b9fm6iNa3Fg8",
        "colab_type": "text"
      },
      "source": [
        "### Accuracy?\n",
        "If the SVM is implemented correctly, you shuold get an accuracy around 29%."
      ]
    },
    {
      "cell_type": "code",
      "metadata": {
        "id": "uitPeAjg3Fg9",
        "colab_type": "code",
        "colab": {},
        "outputId": "a3e6cb4a-7900-4c44-af20-b4dbc12363ad"
      },
      "source": [
        "pred_softmax = softmax_classifier.predict(X_train)\n",
        "print('The training accuracy is given by : %f' % (get_acc(pred_softmax, y_train)))\n",
        "pred_softmax = softmax_classifier.predict(X_val)\n",
        "print('The validation accuracy is given by : %f' % (get_acc(pred_softmax, y_val)))"
      ],
      "execution_count": null,
      "outputs": [
        {
          "output_type": "stream",
          "text": [
            "The training accuracy is given by : 33.412245\n",
            "The validation accuracy is given by : 33.770000\n"
          ],
          "name": "stdout"
        }
      ]
    },
    {
      "cell_type": "markdown",
      "metadata": {
        "id": "qVS-CzEU3Fg_",
        "colab_type": "text"
      },
      "source": [
        "## Section 2.1. Improve your Softmax Classifier [5 pts]\n",
        "Again, try to improve the accuracy of your classifier. You can perform hyperparameter search with cross-validation, or conduct some extra preprocessing on the data. **Note that you should never use the `X_test` and `y_test` for tuning your model.** In addition, <span style=\"color:red\">**We expect to see an accuracy around 34% after the improvement.**</span>\n"
      ]
    },
    {
      "cell_type": "code",
      "metadata": {
        "id": "SjH7ln_R3Fg_",
        "colab_type": "code",
        "colab": {},
        "outputId": "827376e6-2a0d-415e-ad76-6db63718dd53"
      },
      "source": [
        "# Get the accuracy to above 34%!\n",
        "\n",
        "\n",
        "#Answer:\n",
        "# 1. Improvence: search better number of training batches and keep other parameters unchanged. \n",
        "# 2. Method: 5 fold cross-validation.\n",
        "# 3. code: \n",
        "\n",
        "from sklearn.model_selection import KFold\n",
        "\n",
        "n_iter = 500\n",
        "batch_size_list=[100,200,400,600,800]\n",
        "acu_list=[]\n",
        "\n",
        "Xdata=np.concatenate((X_train, X_val), axis=0)\n",
        "ydata=np.concatenate((y_train, y_val), axis=0)\n",
        "\n",
        "\n",
        "for i in range(len(batch_size_list)):\n",
        "    kf = KFold(n_splits=5)\n",
        "    ttt_list=[]\n",
        "    \n",
        "    for train_index, val_index in kf.split(Xdata):\n",
        "        \n",
        "        X_train, X_val = Xdata[train_index], Xdata[val_index]\n",
        "        y_train, y_val = ydata[train_index], ydata[val_index]\n",
        "        \n",
        "        num_classes = np.max(y_train) + 1\n",
        "        num_features = X_train.shape[1]\n",
        "        svm = SVM(num_features, num_classes)\n",
        "        loss_hist = svm.train(X_train, y_train, lr=1e-7, reg_const=5e3, n_iters=500,batch_size=batch_size_list[i])\n",
        "        pred_svm = svm.predict(X_val)\n",
        "        ttt_list.append(get_acc(pred_svm, y_val))\n",
        "        \n",
        "    print(ttt_list)\n",
        "    acu_list.append(np.sum(ttt_list)/5.0)\n",
        "    \n",
        "print(acu_list)\n",
        "plt.plot(batch_size_list,acu_list,'bo');\n",
        "plt.ylabel('acuracy');\n",
        "plt.xlabel('batch size');\n"
      ],
      "execution_count": null,
      "outputs": [
        {
          "output_type": "stream",
          "text": [
            "Iter 500/500 - loss: 551.8324699557352 \n",
            "Iter 500/500 - loss: 555.4606795600063 \n",
            "Iter 500/500 - loss: 852.3086818234756 \n",
            "Iter 500/500 - loss: -580.7070272883599 \n",
            "Iter 500/500 - loss: -239.29622126453523 \n",
            "[28.228813559322035, 28.237288135593218, 29.567796610169488, 28.8728813559322, 28.474576271186443]\n",
            "Iter 500/500 - loss: 1012.0844434727504 \n",
            "Iter 500/500 - loss: -712.6902970005781 \n",
            "Iter 500/500 - loss: 1043.271725923148 \n",
            "Iter 500/500 - loss: 176.85854183790312 \n",
            "Iter 500/500 - loss: -49.079481961170984 \n",
            "[28.440677966101696, 28.567796610169495, 28.118644067796613, 28.559322033898304, 28.720338983050848]\n",
            "Iter 500/500 - loss: 370.34167745037064 \n",
            "Iter 500/500 - loss: 85.29395673074956 \n",
            "Iter 500/500 - loss: -94.36756613167879 \n",
            "Iter 500/500 - loss: -504.65427829109314 \n",
            "Iter 500/500 - loss: -642.3871657388495 \n",
            "[29.686440677966104, 27.74576271186441, 28.720338983050848, 28.847457627118644, 29.3728813559322]\n",
            "Iter 500/500 - loss: 182.93158329423122 \n",
            "Iter 500/500 - loss: -324.1029871664444 \n",
            "Iter 500/500 - loss: -487.3546483443238 \n",
            "Iter 500/500 - loss: -1304.67018166959 \n",
            "Iter 500/500 - loss: -159.2541839758986 \n",
            "[28.864406779661017, 28.033898305084747, 29.24576271186441, 29.44915254237288, 28.084745762711865]\n",
            "Iter 500/500 - loss: 572.5140402131498 \n",
            "Iter 500/500 - loss: -20.545303206605958 \n",
            "Iter 500/500 - loss: -111.81001244511928 \n",
            "Iter 500/500 - loss: -615.6911434439268 \n",
            "Iter 500/500 - loss: 7.467469173400235 \n",
            "[29.686440677966104, 29.279661016949156, 28.288135593220336, 29.16949152542373, 28.80508474576271]\n",
            "[28.676271186440676, 28.481355932203392, 28.87457627118644, 28.735593220338984, 29.04576271186441]\n"
          ],
          "name": "stdout"
        },
        {
          "output_type": "display_data",
          "data": {
            "image/png": "[encoded data removed]",
            "text/plain": [
              "<Figure size 432x288 with 1 Axes>"
            ]
          },
          "metadata": {
            "tags": [],
            "needs_background": "light"
          }
        }
      ]
    },
    {
      "cell_type": "markdown",
      "metadata": {
        "id": "MV6Y8k_Q3FhC",
        "colab_type": "text"
      },
      "source": [
        "### Testing Softmax"
      ]
    },
    {
      "cell_type": "markdown",
      "metadata": {
        "id": "nrXS-ItD3FhC",
        "colab_type": "text"
      },
      "source": [
        "Finally, evaluate the testing accuracy."
      ]
    },
    {
      "cell_type": "code",
      "metadata": {
        "id": "tfFYWgbq3FhD",
        "colab_type": "code",
        "colab": {},
        "outputId": "df706674-9802-4b47-95b0-7ddb20285bc1"
      },
      "source": [
        "# Run linear classifier again with best batch size\n",
        "# Data set is sperated with 49000 and 1000 as train and validate data \n",
        "\n",
        "X_train, y_train = Xdata[0:49000], ydata[0:49000]\n",
        "        \n",
        "num_classes = np.max(y_train) + 1\n",
        "num_features = X_train.shape[1]\n",
        "svm = SVM(num_features, num_classes)\n",
        "loss_hist = svm.train(X_train, y_train, lr=1e-7, reg_const=5e3, n_iters=1500,batch_size=batch_size_list[np.argmax(acu_list)])\n",
        "\n",
        "pred_softmax = softmax_classifier.predict(X_test)\n",
        "print('The testing accuracy is given by : %f' % (get_acc(pred_softmax, y_test)))"
      ],
      "execution_count": null,
      "outputs": [
        {
          "output_type": "stream",
          "text": [
            "Iter 500/500 - loss: 137.2293516224296 \n",
            "The testing accuracy is given by : 33.800000\n"
          ],
          "name": "stdout"
        }
      ]
    },
    {
      "cell_type": "markdown",
      "metadata": {
        "id": "hmio6tTM3FhG",
        "colab_type": "text"
      },
      "source": [
        "# Section 3. Multilayer Perceptron (MLP)\n",
        "In this section, we present you a modified version of simple neural network from Professor Vicente Ordonez at the University of Virginia. You job is to read through the implementation (optional, but highly recommended), and try the MLP classifier. For additional resources on understanding forward and backpropagation, you can check the materials here: http://cs231n.github.io/optimization-2/\n",
        "\n",
        "Consider a single-layer supervised neural network that has 4 inputs and 3 outputs. First, let's review the skeleton of a single linear layer neural network. The inputs of the network are the variables $x_1, x_2, x_3, x_4$, or the input vector $\\mathbf{x}=[x_1, x_2, x_3, x_4]$, the outputs of the network are $\\widehat{y}_1,\\widehat{y}_2,\\widehat{y}_3$, or the output vector $\\widehat{\\mathbf{y}}=[$$\\widehat{y}$$_1,\\widehat{y}_2,\\widehat{y}_3]$:\n",
        "\n",
        "<img src=\"fig/1_layer_fig.png\" width=\"450\"/>\n",
        "\n",
        "The given $j$-th output $\\widehat{y}_j$ of this single linear layer + activation function is computed as follows:\n",
        "\n",
        "$$\\widehat{y}_j= \\text{sigmoid}(w_{1j}x_1 + w_{2j}x_2 + w_{3j}x_3 + w_{4j}x_4 + b_j) = \\text{sigmoid}\\Big(\\sum_{i=1}^{i=4}w_{ij}x_{i} + b_j\\Big)$$\n",
        "\n",
        "In matrix notation, this would be: \n",
        "\n",
        "\\begin{equation}\n",
        "\\begin{bmatrix}\n",
        "  \\widehat{y}_{1} \\\\ \n",
        "  \\widehat{y}_{2} \\\\\n",
        "  \\widehat{y}_{3} \n",
        "\\end{bmatrix}^T=\\mathbf{Sigmoid}\\Bigg(\n",
        "\\begin{bmatrix}\n",
        "  x_{1} \\\\\n",
        "  x_{2} \\\\\n",
        "  x_{3} \\\\\n",
        "  x_{4}\n",
        "\\end{bmatrix}^T\n",
        "\\begin{bmatrix}\n",
        "  w_{1,1} & w_{1,2} & w_{1,3}\\\\\n",
        "  w_{2,1} & w_{3,2} & w_{2,3}\\\\\n",
        "  w_{3,1} & w_{3,2} & w_{3,3}\\\\\n",
        "  w_{4,1} & w_{4,2} & w_{4,3}\n",
        "\\end{bmatrix}\n",
        "+\n",
        "\\begin{bmatrix}\n",
        "  b_{1} \\\\\n",
        "  b_{2} \\\\\n",
        "  b_{3}\n",
        "\\end{bmatrix}^T\\Bigg)\n",
        "\\end{equation}\n",
        "\n",
        "or more compactly:\n",
        "\n",
        "\\begin{equation}\n",
        "\\widehat{\\mathbf{y}}^T = \\mathbf{Sigmoid}(\\mathbf{x}^T \\cdot \\mathbf{W} + \\mathbf{b}^T)\n",
        "\\end{equation}\n",
        "\n",
        "The element-wise sigmoid function is: $\\mathbf{Sigmoid}(\\mathbf{x}) = 1 \\;/\\; (1 + exp(-\\mathbf{x}))$, or alternatively: $\\mathbf{Sigmoid}(\\mathbf{x}) = exp(\\mathbf{x})\\;/\\;(1 + exp(\\mathbf{x}))$. Here the sigmoid is separated logically into an activation layer $\\sigma(x)$ and a linear layer $\\text{linear}(3,4)$ as illustrated in figure. \n",
        "\n",
        "Training these weights $\\mathbf{W}$ and biases $\\mathbf{b}$ requires having many training pairs $(\\widehat{\\mathbf{y}}^{(m)}, \\mathbf{x}^{(m)})$. The inputs $\\mathbf{x}$ can be the pixels of an image, indices of words, the entries in a database, and the outputs $\\widehat{\\mathbf{y}}$ can also be literally anything, including a number indicating a category, a set of numbers indicating the indices of words composing a sentence, an output image itself, etc.\n",
        "\n",
        "## 3.1. Forward-propagation\n",
        "\n",
        "Computing the outputs $\\widehat{\\mathbf{y}}$ from the inputs $\\mathbf{x}$ in this network composed of a single linear layer, and a sigmoid layer, is called forward-propagation. Below is the code that implements these two operations:"
      ]
    },
    {
      "cell_type": "code",
      "metadata": {
        "id": "kDn4RNYZ3FhG",
        "colab_type": "code",
        "colab": {},
        "outputId": "2e348bb3-e2ff-418d-ffcd-a1010bdeafa5"
      },
      "source": [
        "import numpy as np\n",
        "import numpy.matlib\n",
        "\n",
        "class nn_Sigmoid:\n",
        "    def forward(self, x):\n",
        "        return 1 / (1 + np.exp(-x))\n",
        "\n",
        "class nn_Linear:\n",
        "    def __init__(self, input_dim, output_dim):\n",
        "        # Initialized with random numbers from a gaussian N(0, 0.001)\n",
        "        self.weight = np.matlib.randn(input_dim, output_dim) * 0.001\n",
        "        self.bias = np.matlib.randn((1, output_dim)) * 0.001\n",
        "        \n",
        "    # y = Wx + b\n",
        "    def forward(self, x):\n",
        "        return np.dot(x, self.weight) + self.bias\n",
        "    \n",
        "    def getParameters(self):\n",
        "        return [self.weight, self.bias]\n",
        "\n",
        "# Let's test the composition of the two functions (forward-propagation in the neural network).\n",
        "x1 = np.array([[1, 2, 2, 3]])\n",
        "y_hat1 = nn_Sigmoid().forward(nn_Linear(4, 3).forward(x1))\n",
        "print('x[1] = '+ str(x1))\n",
        "print('y_hat[1] = ' + str(y_hat1) + '\\n')\n",
        "\n",
        "# Let's test the composition of the two functions (forward-propagation in the neural network).\n",
        "x2 = np.array([[4, 5, 2, 1]])\n",
        "y_hat2 = nn_Sigmoid().forward(nn_Linear(4, 3).forward(x2))\n",
        "print('x[2] = '+ str(x2))\n",
        "print('y_hat[2] = ' + str(y_hat2) + '\\n')\n",
        "\n",
        "# We can also compute both at once, which could be more efficient since it requires a single matrix multiplication.\n",
        "x = np.concatenate((x1, x2), axis = 0)\n",
        "y_hat = nn_Sigmoid().forward(nn_Linear(4, 3).forward(x))\n",
        "print('x = ' + str(x))\n",
        "print('y_hat = ' + str(y_hat))"
      ],
      "execution_count": null,
      "outputs": [
        {
          "output_type": "stream",
          "text": [
            "x[1] = [[1 2 2 3]]\n",
            "y_hat[1] = [[0.49911085 0.50182834 0.50064013]]\n",
            "\n",
            "x[2] = [[4 5 2 1]]\n",
            "y_hat[2] = [[0.50095754 0.50055643 0.49829759]]\n",
            "\n",
            "x = [[1 2 2 3]\n",
            " [4 5 2 1]]\n",
            "y_hat = [[0.49902246 0.50143699 0.50057282]\n",
            " [0.50137117 0.50193738 0.50150044]]\n"
          ],
          "name": "stdout"
        }
      ]
    },
    {
      "cell_type": "markdown",
      "metadata": {
        "id": "Z2nFqC4T3FhI",
        "colab_type": "text"
      },
      "source": [
        "## 3.2. Loss functions.\n",
        "\n",
        "After computing the output predictions $\\widehat{\\mathbf{y}}$ it is necessary to compare these against the true values of $\\mathbf{y}$. Let's call these true, correct, or desired values $\\mathbf{y}$. Typically, a simple loss or cost function is used to measure the degree by which the prediction $\\widehat{\\mathbf{y}}$ is wrong with respect to $\\mathbf{y}$. A common loss function for regression is the sum of squared differences between the prediction and its true value. Assuming a prediction $\\widehat{\\mathbf{y}}^{(d)}$ for our training sample $\\mathbf{x}^{(d)}$ with true value $\\mathbf{y}^{(d)}$, then the loss can be computed as:\n",
        "\n",
        "$$loss(\\widehat{\\mathbf{y}}^{(d)}, \\mathbf{y}^{(d)}) = (\\widehat{y}^{(d)}_1 - y^{(d)}_1)^2 + (\\widehat{y}^{(d)}_2 - y^{(d)}_2)^2 + (\\widehat{y}^{(d)}_3 - y^{(d)}_3)^2 = \\sum_{j=1}^{j=3}(\\widehat{y}^{(d)}_j - y^{(d)}_j)^2$$\n",
        "\n",
        "The goal is to modify the parameters [$\\mathbf{W}, \\mathbf{b}$] in the Linear layer so that the value of $loss(\\widehat{\\mathbf{y}}^{(d)}, \\mathbf{y}^{(d)})$ becomes as small as possible for all training samples in a set $D=\\{(\\mathbf{x}^{(d)},\\mathbf{y}^{(d)})\\}$. This would in turn ensure that predictions $\\widehat{\\mathbf{y}}$ are as similar as possible to the true values $\\mathbf{y}$. To achieve this we need to minimize the following function:\n",
        "\n",
        "$$\\mathcal{L}(\\mathbf{W}, \\mathbf{b}) = \\sum_{d=1}^{d=|D|} loss(\\widehat{\\mathbf{y}}^{(d)}, \\mathbf{y}^{(d)})$$\n",
        "\n",
        "The only two variables for our model in the function $\\mathcal{L}(\\mathbf{W}, \\mathbf{b})$ are $\\mathbf{W}$ and $\\mathbf{b}$, this is because the training dataset $D$ is fixed. Finding the values of $\\mathbf{W}$ and $\\mathbf{b}$ that minimize the the loss, particularly for complex functions, is typically done using gradient based optimization, like Stochastic Gradient Descent (SGD). "
      ]
    },
    {
      "cell_type": "code",
      "metadata": {
        "id": "8zbc6bwp3FhJ",
        "colab_type": "code",
        "colab": {},
        "outputId": "d4e54315-d062-43f8-8874-b3ee3cd844a8"
      },
      "source": [
        "class nn_MSECriterion:  # MSE = mean squared error.\n",
        "    def forward(self, predictions, labels):\n",
        "        return np.sum(np.square(predictions - labels))\n",
        "\n",
        "# Let's test the loss function.\n",
        "y_hat = np.array([[0.23, 0.25, 0.33], [0.23, 0.25, 0.33], [0.23, 0.25, 0.33], [0.23, 0.25, 0.33]])\n",
        "y_true = np.array([[0.25, 0.25, 0.25], [0.33, 0.33, 0.33], [0.77, 0.77, 0.77], [0.80, 0.80, 0.80]])\n",
        "\n",
        "nn_MSECriterion().forward(y_hat, y_true)"
      ],
      "execution_count": null,
      "outputs": [
        {
          "output_type": "execute_result",
          "data": {
            "text/plain": [
              "1.6271000000000002"
            ]
          },
          "metadata": {
            "tags": []
          },
          "execution_count": 113
        }
      ]
    },
    {
      "cell_type": "markdown",
      "metadata": {
        "id": "EDUCEQ7N3FhL",
        "colab_type": "text"
      },
      "source": [
        "## 3.3. Backward-propagation (Backpropagation)\n",
        "\n",
        "As we discussed in class, backpropagation is just applying the chain-rule in calculus to compute the derivative of a function which is the composition of many functions (this is essentially definition of the neural network). \n",
        "\n",
        "Below is the implementation of required derivative computations for our simple network. You are highly advised to derive the derivatives implemented here to make sure you understand how one arrives at them. "
      ]
    },
    {
      "cell_type": "code",
      "metadata": {
        "id": "FOP5dIDU3FhL",
        "colab_type": "code",
        "colab": {},
        "outputId": "1a7d2cf1-af03-485f-bb1a-9d8747332563"
      },
      "source": [
        "# This is referred above as f(u).\n",
        "\n",
        "class nn_MSECriterion:\n",
        "    def forward(self, predictions, labels):\n",
        "        return np.sum(np.square(predictions - labels))\n",
        "        \n",
        "    def backward(self, predictions, labels):\n",
        "        num_samples = labels.shape[0]\n",
        "        return 2 * (predictions - labels)\n",
        "    \n",
        "# This is referred above as g(v).\n",
        "class nn_Sigmoid:\n",
        "    def forward(self, x):\n",
        "        return 1 / (1 + np.exp(-x))\n",
        "    \n",
        "    def backward(self, x, gradOutput):\n",
        "        # It is usually a good idea to use gv from the forward pass and not recompute it again here.\n",
        "        gv = 1 / (1 + np.exp(-x))\n",
        "        return np.multiply(np.multiply(gv, (1 - gv)), gradOutput)\n",
        "\n",
        "# This is referred above as h(W, b)\n",
        "class nn_Linear:\n",
        "    def __init__(self, input_dim, output_dim):\n",
        "        # Initialized with random numbers from a gaussian N(0, 0.001)\n",
        "        self.weight = np.matlib.randn(input_dim, output_dim) * 0.001\n",
        "        self.bias = np.matlib.randn((1, output_dim)) * 0.001\n",
        "        self.gradWeight = np.zeros_like(self.weight)\n",
        "        self.gradBias = np.zeros_like(self.bias)\n",
        "        \n",
        "    def forward(self, x):\n",
        "        return np.dot(x, self.weight) + self.bias\n",
        "    \n",
        "    def backward(self, x, gradOutput):\n",
        "        # dL/dw = dh/dw * dL/dv\n",
        "        self.gradWeight = np.dot(x.T, gradOutput)\n",
        "        # dL/db = dh/db * dL/dv\n",
        "        #self.gradBias = np.copy(gradOutput)\n",
        "        self.gradBias = np.copy(np.sum(gradOutput, axis=0))\n",
        "        # return dL/dx = dh/dx * dL/dv\n",
        "        return np.dot(gradOutput, self.weight.T)\n",
        "    \n",
        "    def getParameters(self):\n",
        "        params = [self.weight, self.bias]\n",
        "        gradParams = [self.gradWeight, self.gradBias]\n",
        "        return params, gradParams\n",
        "    \n",
        "# Let's test some dummy inputs for a full pass of forward and backward propagation.\n",
        "x1 = np.array([[1, 2, 2, 3]])\n",
        "y1 = np.array([[0.25, 0.25, 0.25]])\n",
        "\n",
        "# Define the operations.\n",
        "linear = nn_Linear(4, 3)  # h(W, b)\n",
        "sigmoid = nn_Sigmoid()  # g(v)\n",
        "loss = nn_MSECriterion()  # f(u)\n",
        "\n",
        "# Forward-propagation.\n",
        "lin = linear.forward(x1)\n",
        "y_hat = sigmoid.forward(lin)\n",
        "loss_val = loss.forward(y_hat, y1) # Loss function.\n",
        "\n",
        "# Backward-propagation.\n",
        "dy_hat = loss.backward(y_hat, y1)\n",
        "dlin = sigmoid.backward(lin, dy_hat)\n",
        "dx1 = linear.backward(x1, dlin)\n",
        "\n",
        "print('\\n num_samples = ' + str(y1.shape[0]))\n",
        "\n",
        "# Show parameters of the linear layer.\n",
        "print('\\nW = ' + str(linear.weight))\n",
        "print('B = ' + str(linear.bias))\n",
        "\n",
        "# Show the intermediate outputs in the forward pass.\n",
        "print('\\nx1    = '+ str(x1))\n",
        "print('lin   = ' + str(lin))\n",
        "print('y_hat = ' + str(y_hat))\n",
        "\n",
        "print('\\nloss = ' + str(loss_val))\n",
        "\n",
        "# Show the intermediate gradients with respect to inputs in the backward pass.\n",
        "print('\\ndy_hat = ' + str(dy_hat))\n",
        "print('dlin   = ' + str(dlin))\n",
        "print('dx1    = ' + str(dx1))\n",
        "\n",
        "# Show the gradients with respect to parameters.\n",
        "print('\\ndW = ' + str(linear.gradWeight))\n",
        "print('dB = ' + str(linear.gradBias))"
      ],
      "execution_count": null,
      "outputs": [
        {
          "output_type": "stream",
          "text": [
            "\n",
            " num_samples = 1\n",
            "\n",
            "W = [[-9.46252877e-06 -1.89899346e-03  1.99078547e-03]\n",
            " [-2.44175109e-04 -1.11810824e-03  1.86026138e-04]\n",
            " [-1.08298780e-03  1.10336275e-03 -2.52555672e-04]\n",
            " [ 3.91670398e-05  1.36333773e-03  8.48209381e-04]]\n",
            "B = [[-0.0008163  -0.00048074  0.00116772]]\n",
            "\n",
            "x1    = [[1 2 2 3]]\n",
            "lin   = [[-0.00336258  0.00168079  0.00557007]]\n",
            "y_hat = [[0.49915935 0.5004202  0.50139251]]\n",
            "\n",
            "loss = 0.18798885488103106\n",
            "\n",
            "dy_hat = [[0.49831871 0.50084039 0.50278503]]\n",
            "dlin   = [[0.12457933 0.12521001 0.12569528]]\n",
            "dx1    = [[ 1.12805156e-05 -1.47034906e-04 -2.85108851e-05  2.82198851e-04]]\n",
            "\n",
            "dW = [[0.12457933 0.12521001 0.12569528]\n",
            " [0.24915865 0.25042002 0.25139056]\n",
            " [0.24915865 0.25042002 0.25139056]\n",
            " [0.37373798 0.37563003 0.37708585]]\n",
            "dB = [[0.12457933 0.12521001 0.12569528]]\n"
          ],
          "name": "stdout"
        }
      ]
    },
    {
      "cell_type": "markdown",
      "metadata": {
        "id": "QWzZi2Rr3FhN",
        "colab_type": "text"
      },
      "source": [
        "## 3.4. Gradient checking \n",
        "\n",
        "The gradients can also be computed with numerical approximation using the definition of derivatives. Let a single input pair $(\\mathbf{x}, \\mathbf{y})$ be the input, for each entry $w_{ij}$ in the weight matrix $\\mathbf{W}$, the partial derivatives can be computed as follows:\n",
        "\n",
        "$$\\frac{\\partial \\mathcal{L}(\\mathbf{W},\\mathbf{b})}{\\partial w_{ij}} = \\frac{\\mathcal{L}(\\mathbf{W} + \\mathbf{E}_{ij},b) - \\mathcal{L}(\\mathbf{W} - \\mathbf{E}_{ij}, b)}{2\\epsilon}, $$\n",
        "\n",
        "where $\\mathbf{E}_{ij}$ is a matrix that has $\\epsilon$ in its $(i,j)$ entry and zeros everywhere else. Intuitively this gradient tells how would the value of the loss changes if we change a particular weight $w_{ij}$ by an $\\epsilon$ amount. We can do the same to compute derivatives with respect to the bias parameters $b_i$. Below is the code that checks for a given input $(\\mathbf{x}, \\mathbf{y})$, the gradients for the matrix $\\mathbf{W}$. "
      ]
    },
    {
      "cell_type": "code",
      "metadata": {
        "id": "IZ3MQHri3FhO",
        "colab_type": "code",
        "colab": {},
        "outputId": "965c8c98-013d-4166-9c07-e90c10d87d40"
      },
      "source": [
        "# We will compute derivatives with respect to a single data pair (x,y)\n",
        "x = np.array([[2.34, 3.8, 34.44, 5.33]])\n",
        "y = np.array([[3.2, 4.2, 5.3]])\n",
        "\n",
        "# Define the operations.\n",
        "linear = nn_Linear(4, 3)\n",
        "sigmoid = nn_Sigmoid()\n",
        "criterion = nn_MSECriterion()\n",
        "\n",
        "# Forward-propagation.\n",
        "a0 = linear.forward(x)\n",
        "a1 = sigmoid.forward(a0)\n",
        "loss = criterion.forward(a1, y) # Loss function.\n",
        "\n",
        "# Backward-propagation.\n",
        "da1 = criterion.backward(a1, y)\n",
        "da0 = sigmoid.backward(a0, da1)\n",
        "dx = linear.backward(x, da0)\n",
        "\n",
        "gradWeight = linear.gradWeight\n",
        "gradBias = linear.gradBias\n",
        "\n",
        "approxGradWeight = np.zeros_like(linear.weight)\n",
        "approxGradBias = np.zeros_like(linear.bias)\n",
        "\n",
        "# We will verify here that gradWeights are correct and leave it as an excercise\n",
        "# to verify the gradBias.\n",
        "epsilon = 0.0001\n",
        "for i in range(0, linear.weight.shape[0]):\n",
        "    for j in range(0, linear.weight.shape[1]):\n",
        "        # Compute f(w)\n",
        "        fw = criterion.forward(sigmoid.forward(linear.forward(x)), y) # Loss function.\n",
        "        # Compute f(w + eps)\n",
        "        shifted_weight = np.copy(linear.weight)\n",
        "        shifted_weight[i, j] = shifted_weight[i, j] + epsilon\n",
        "        shifted_linear = nn_Linear(4, 3)\n",
        "        shifted_linear.bias = linear.bias\n",
        "        shifted_linear.weight = shifted_weight\n",
        "        fw_epsilon = criterion.forward(sigmoid.forward(shifted_linear.forward(x)), y) # Loss function\n",
        "        # Compute (f(w + eps) - f(w)) / eps\n",
        "        approxGradWeight[i, j] = (fw_epsilon - fw) / epsilon\n",
        "\n",
        "# These two outputs should be similar up to some precision.\n",
        "print('gradWeight: ' + str(gradWeight))\n",
        "print('\\napproxGradWeight: ' + str(approxGradWeight))"
      ],
      "execution_count": null,
      "outputs": [
        {
          "output_type": "stream",
          "text": [
            "gradWeight: [[ -3.15380907  -4.34184343  -5.62897343]\n",
            " [ -5.12157029  -7.05085686  -9.14106797]\n",
            " [-46.41760019 -63.90302899 -82.84694231]\n",
            " [ -7.18367622  -9.88975449 -12.8215506 ]]\n",
            "\n",
            "approxGradWeight: [[ -3.15377171  -4.34182327  -5.6289604 ]\n",
            " [ -5.12147173  -7.05080366  -9.14103355]\n",
            " [-46.40946418 -63.89860286 -82.84404207]\n",
            " [ -7.18348228  -9.88964976 -12.8214828 ]]\n"
          ],
          "name": "stdout"
        }
      ]
    },
    {
      "cell_type": "markdown",
      "metadata": {
        "id": "p12xS28r3FhQ",
        "colab_type": "text"
      },
      "source": [
        "## Section 3.4. Playing with the Simple NN [40 pts]\n",
        "Now, we provide a simple NN model that has an training accuracy around 46%. You job here is to first run and check the simple NN model, and the experiments it with:\n",
        "- Try using 3 different numbers of layers for the simple NN, and plot the accuracy as a function of the number of layers. \n",
        "- Try 4 different numbers of hidden state size, and plot the accuracy as a function of the number you have tried.\n",
        "- Try different activation function (Sigmoid, ReLU)\n",
        "- Briefly describe what you've observed in the above experiments\n",
        "\n",
        "Note that you are free to create your own Simple_NN class for your experiments."
      ]
    },
    {
      "cell_type": "code",
      "metadata": {
        "id": "vtOirny53FhR",
        "colab_type": "code",
        "colab": {}
      },
      "source": [
        "class nn_CECriterionWithLogits:\n",
        "    def forward(self, logits, labels):\n",
        "        y_indices = np.arange(len(labels))\n",
        "        self.probs = softmax(logits)\n",
        "        correct_class_prob = self.probs[y_indices, labels].reshape(-1, 1)\n",
        "        loss = np.sum(-np.log(correct_class_prob)) / len(correct_class_prob)\n",
        "        return loss\n",
        "    \n",
        "    def backward(self, labels):\n",
        "        y_indices = np.arange(len(labels))\n",
        "        gradOutput = self.probs\n",
        "        gradOutput[y_indices, labels] -= 1\n",
        "        return gradOutput / len(labels)\n",
        "    \n",
        "class nn_ReLU:\n",
        "    def forward(self, x):\n",
        "        # Forward pass.\n",
        "        return np.maximum(0, x)\n",
        "    \n",
        "    def backward(self, x, gradOutput):\n",
        "        # Backward pass\n",
        "        return np.where(x < 0, 0, np.multiply(1, gradOutput))\n",
        "    \n",
        "def softmax(x):\n",
        "    exp = np.exp(x - x.max()) # stability trick\n",
        "    return (exp / np.sum(exp, axis=1))"
      ],
      "execution_count": null,
      "outputs": []
    },
    {
      "cell_type": "code",
      "metadata": {
        "id": "mPaKRLVU3FhS",
        "colab_type": "code",
        "colab": {}
      },
      "source": [
        "class Simple_NN(object):\n",
        "    def __init__(self, input_size, output_size, hidden_state_size=64):\n",
        "        self.linear1 = nn_Linear(input_size, hidden_state_size)\n",
        "        self.activation = nn_ReLU()\n",
        "        self.linear2 = nn_Linear(hidden_state_size, output_size)\n",
        "        \n",
        "    def forward(self, X):\n",
        "        self.X = X\n",
        "        self.x1 = self.linear1.forward(self.X)\n",
        "        self.a1 = self.activation.forward(self.x1)\n",
        "        logits = self.linear2.forward(self.a1)\n",
        "        return logits\n",
        "    \n",
        "    def backward(self, gradOutput):\n",
        "        dx2 = self.linear2.backward(self.a1, gradOutput)\n",
        "        da1 = self.activation.backward(self.x1, dx2)\n",
        "        self.linear1.backward(self.X, da1)\n",
        "    \n",
        "    def update(self, lr):\n",
        "        self.linear1.weight = self.linear1.weight - lr * (self.linear1.gradWeight)\n",
        "        self.linear1.bias = self.linear1.bias - lr * (self.linear1.gradBias)\n",
        "        self.linear2.weight = self.linear2.weight - lr * (self.linear2.gradWeight)\n",
        "        self.linear2.bias = self.linear2.bias - lr * (self.linear2.gradBias)\n",
        "        \n",
        "    def train(self, X_train, y_train, loss_criterion=nn_CECriterionWithLogits(), \n",
        "              lr=1e-5, n_iter=1500, batch_size=200):\n",
        "        loss_hist = []\n",
        "\n",
        "        for i in range(n_iter):\n",
        "            batch_indices = np.random.choice(len(X_train), batch_size)\n",
        "            X_batch = X_train[batch_indices]\n",
        "            y_batch = y_train[batch_indices]\n",
        "            \n",
        "            logits = self.forward(X_batch)\n",
        "            loss = loss_criterion.forward(logits, y_batch)\n",
        "            loss_grad = loss_criterion.backward(y_batch)\n",
        "            self.backward(loss_grad)\n",
        "            self.update(lr)\n",
        "\n",
        "            if (i + 1) % 100 == 0:\n",
        "                print(f'Iter {i+1}/{n_iter} - loss: {loss} ')\n",
        "            loss_hist.append(loss)\n",
        "        return loss_hist\n",
        "    def predict(self, X):\n",
        "        return np.asarray(np.argmax(softmax(self.forward(X)), axis=1)).squeeze(1)"
      ],
      "execution_count": null,
      "outputs": []
    },
    {
      "cell_type": "markdown",
      "metadata": {
        "id": "xAUu191n3FhU",
        "colab_type": "text"
      },
      "source": [
        "As the bias is explicitly handled in the MLP code, stripped off the ones we have concatenated to the feature vectors."
      ]
    },
    {
      "cell_type": "code",
      "metadata": {
        "id": "Cpgm4W273FhV",
        "colab_type": "code",
        "colab": {}
      },
      "source": [
        "X_train = X_train[:, :3072]\n",
        "X_val = X_val[:, :3072]\n",
        "X_test = X_test[:, :3072]"
      ],
      "execution_count": null,
      "outputs": []
    },
    {
      "cell_type": "markdown",
      "metadata": {
        "id": "JCCvEFaK3FhW",
        "colab_type": "text"
      },
      "source": [
        "Now, run the simple NN to check the accuracy:"
      ]
    },
    {
      "cell_type": "code",
      "metadata": {
        "id": "V27EtZbc3FhX",
        "colab_type": "code",
        "colab": {},
        "outputId": "8abc4103-6376-4baf-9d39-a582e49c6883"
      },
      "source": [
        "model = Simple_NN(X_train.shape[1], np.max(y_train)+1, hidden_state_size=64)\n",
        "n_iter = 1500\n",
        "batch_size = 200\n",
        "loss_hist = model.train(X_train, y_train, lr=1e-4)"
      ],
      "execution_count": null,
      "outputs": [
        {
          "output_type": "stream",
          "text": [
            "Iter 100/1500 - loss: 2.2609574348766985 \n",
            "Iter 200/1500 - loss: 2.11125013702801 \n",
            "Iter 300/1500 - loss: 2.065020736968908 \n",
            "Iter 400/1500 - loss: 1.926278201769856 \n",
            "Iter 500/1500 - loss: 1.9326054510270003 \n",
            "Iter 600/1500 - loss: 1.8596053825685486 \n",
            "Iter 700/1500 - loss: 1.7947119258917643 \n",
            "Iter 800/1500 - loss: 1.8326240013126147 \n",
            "Iter 900/1500 - loss: 1.8443645919232887 \n",
            "Iter 1000/1500 - loss: 1.8643274010980415 \n",
            "Iter 1100/1500 - loss: 1.7504000377927798 \n",
            "Iter 1200/1500 - loss: 1.7579199976418414 \n",
            "Iter 1300/1500 - loss: 1.796350744413341 \n",
            "Iter 1400/1500 - loss: 1.7212729673937508 \n",
            "Iter 1500/1500 - loss: 1.6620469875841815 \n"
          ],
          "name": "stdout"
        }
      ]
    },
    {
      "cell_type": "code",
      "metadata": {
        "id": "YSfq9_SE3FhZ",
        "colab_type": "code",
        "colab": {},
        "outputId": "3da08d72-63d9-4284-cc55-a8d3d8254b97"
      },
      "source": [
        "plt.plot(loss_hist);\n",
        "plt.ylabel('loss');\n",
        "plt.xlabel('iteration');\n",
        "predict = model.predict(X_train)\n",
        "print('The training accuracy is given by : %f' % (get_acc(predict, y_train)))\n",
        "predict = model.predict(X_val)\n",
        "print('The training accuracy is given by : %f' % (get_acc(predict, y_val)))"
      ],
      "execution_count": null,
      "outputs": [
        {
          "output_type": "stream",
          "text": [
            "The training accuracy is given by : 39.855102\n",
            "The training accuracy is given by : 38.805085\n"
          ],
          "name": "stdout"
        },
        {
          "output_type": "display_data",
          "data": {
            "image/png": "[encoded data removed]",
            "text/plain": [
              "<Figure size 432x288 with 1 Axes>"
            ]
          },
          "metadata": {
            "tags": [],
            "needs_background": "light"
          }
        }
      ]
    },
    {
      "cell_type": "markdown",
      "metadata": {
        "id": "DYNmEnDY3Fhb",
        "colab_type": "text"
      },
      "source": [
        "### Section 3.4.1. Different numbers of layers [15 pts]\n",
        "Try building 3 simple NN with different numbers of layers. Plot the training/validation/test accuracy as a function of the numbers of layers."
      ]
    },
    {
      "cell_type": "code",
      "metadata": {
        "id": "1hnfjXFZ3Fhb",
        "colab_type": "code",
        "colab": {}
      },
      "source": [
        "# Your code goes here\n",
        "\n",
        "class Simple_NN_L3(object):\n",
        "    \n",
        "    def __init__(self, input_size, output_size, hidden_state_size1=64,hidden_state_size2=64):\n",
        "        self.linear1 = nn_Linear(input_size, hidden_state_size1)\n",
        "        self.activation1 = nn_ReLU()\n",
        "        self.linear2 = nn_Linear(hidden_state_size1, hidden_state_size2)\n",
        "        self.activation2 = nn_ReLU()\n",
        "        self.linear3 = nn_Linear(hidden_state_size2, output_size)\n",
        "       \n",
        "        \n",
        "    def forward(self, X):\n",
        "        self.X = X\n",
        "        self.x1 = self.linear1.forward(self.X)\n",
        "        self.a1 = self.activation1.forward(self.x1)\n",
        "        self.x2 = self.linear2.forward(self.a1)\n",
        "        self.a2 = self.activation2.forward(self.x2)\n",
        "        logits = self.linear3.forward(self.a2)\n",
        "        return logits\n",
        "    \n",
        "    def backward(self, gradOutput):\n",
        "        \n",
        "        dx3 = self.linear3.backward(self.a2, gradOutput)\n",
        "        da2 = self.activation2.backward(self.x2, dx3)\n",
        "        dx2 = self.linear2.backward(self.a1, da2)\n",
        "        da1 = self.activation1.backward(self.x1, dx2)\n",
        "        self.linear1.backward(self.X, da1)\n",
        "    \n",
        "    def update(self, lr):\n",
        "        self.linear1.weight = self.linear1.weight - lr * (self.linear1.gradWeight)\n",
        "        self.linear1.bias = self.linear1.bias - lr * (self.linear1.gradBias)\n",
        "        self.linear2.weight = self.linear2.weight - lr * (self.linear2.gradWeight)\n",
        "        self.linear2.bias = self.linear2.bias - lr * (self.linear2.gradBias)\n",
        "        self.linear3.weight = self.linear3.weight - lr * (self.linear3.gradWeight)\n",
        "        self.linear3.bias = self.linear3.bias - lr * (self.linear3.gradBias)\n",
        "        \n",
        "    def train(self, X_train, y_train, loss_criterion=nn_CECriterionWithLogits(), \n",
        "              lr=1e-5, n_iter=1500, batch_size=200):\n",
        "        loss_hist = []\n",
        "\n",
        "        for i in range(n_iter):\n",
        "            batch_indices = np.random.choice(len(X_train), batch_size)\n",
        "            X_batch = X_train[batch_indices]\n",
        "            y_batch = y_train[batch_indices]\n",
        "            \n",
        "            logits = self.forward(X_batch)\n",
        "            loss = loss_criterion.forward(logits, y_batch)\n",
        "            loss_grad = loss_criterion.backward(y_batch)\n",
        "            self.backward(loss_grad)\n",
        "            self.update(lr)\n",
        "\n",
        "            if (i + 1) % 100 == 0:\n",
        "                print(f'Iter {i+1}/{n_iter} - loss: {loss} ')\n",
        "            loss_hist.append(loss)\n",
        "        return loss_hist\n",
        "    \n",
        "    def predict(self, X):\n",
        "        return np.asarray(np.argmax(softmax(self.forward(X)), axis=1)).squeeze(1)"
      ],
      "execution_count": null,
      "outputs": []
    },
    {
      "cell_type": "code",
      "metadata": {
        "id": "MPr8EF8Q3Fhd",
        "colab_type": "code",
        "colab": {}
      },
      "source": [
        "class Simple_NN_L4(object):\n",
        "    \n",
        "    def __init__(self, input_size, output_size, hidden_state_size1=64,hidden_state_size2=64,hidden_state_size3=64):\n",
        "        self.linear1 = nn_Linear(input_size, hidden_state_size1)\n",
        "        self.activation1 = nn_ReLU()\n",
        "        self.linear2 = nn_Linear(hidden_state_size1, hidden_state_size2)\n",
        "        self.activation2 = nn_ReLU()\n",
        "        self.linear3 = nn_Linear(hidden_state_size2, hidden_state_size3)\n",
        "        self.activation3 = nn_ReLU()\n",
        "        self.linear4 = nn_Linear(hidden_state_size3, output_size)\n",
        "       \n",
        "        \n",
        "    def forward(self, X):\n",
        "        self.X = X\n",
        "        self.x1 = self.linear1.forward(self.X)\n",
        "        self.a1 = self.activation1.forward(self.x1)\n",
        "        self.x2 = self.linear2.forward(self.a1)\n",
        "        self.a2 = self.activation2.forward(self.x2)\n",
        "        self.x3 = self.linear3.forward(self.a2)\n",
        "        self.a3 = self.activation3.forward(self.x3)\n",
        "        logits = self.linear4.forward(self.a3)\n",
        "        return logits\n",
        "    \n",
        "    def backward(self, gradOutput):\n",
        "        dx4 = self.linear4.backward(self.a3, gradOutput)\n",
        "        da3 = self.activation3.backward(self.x3, dx4)\n",
        "        dx3 = self.linear3.backward(self.a2, da3)\n",
        "        da2 = self.activation2.backward(self.x2, dx3)\n",
        "        dx2 = self.linear2.backward(self.a1, da2)\n",
        "        da1 = self.activation1.backward(self.x1, dx2)\n",
        "        self.linear1.backward(self.X, da1)\n",
        "    \n",
        "    def update(self, lr):\n",
        "        self.linear1.weight = self.linear1.weight - lr * (self.linear1.gradWeight)\n",
        "        self.linear1.bias = self.linear1.bias - lr * (self.linear1.gradBias)\n",
        "        self.linear2.weight = self.linear2.weight - lr * (self.linear2.gradWeight)\n",
        "        self.linear2.bias = self.linear2.bias - lr * (self.linear2.gradBias)\n",
        "        self.linear3.weight = self.linear3.weight - lr * (self.linear3.gradWeight)\n",
        "        self.linear3.bias = self.linear3.bias - lr * (self.linear3.gradBias)\n",
        "        self.linear4.weight = self.linear4.weight - lr * (self.linear4.gradWeight)\n",
        "        self.linear4.bias = self.linear4.bias - lr * (self.linear4.gradBias)\n",
        "        \n",
        "    def train(self, X_train, y_train, loss_criterion=nn_CECriterionWithLogits(), \n",
        "              lr=1e-5, n_iter=1500, batch_size=200):\n",
        "        loss_hist = []\n",
        "\n",
        "        for i in range(n_iter):\n",
        "            batch_indices = np.random.choice(len(X_train), batch_size)\n",
        "            X_batch = X_train[batch_indices]\n",
        "            y_batch = y_train[batch_indices]\n",
        "            \n",
        "            logits = self.forward(X_batch)\n",
        "            loss = loss_criterion.forward(logits, y_batch)\n",
        "            loss_grad = loss_criterion.backward(y_batch)\n",
        "            self.backward(loss_grad)\n",
        "            self.update(lr)\n",
        "\n",
        "            if (i + 1) % 100 == 0:\n",
        "                print(f'Iter {i+1}/{n_iter} - loss: {loss} ')\n",
        "            loss_hist.append(loss)\n",
        "        return loss_hist\n",
        "    \n",
        "    def predict(self, X):\n",
        "        return np.asarray(np.argmax(softmax(self.forward(X)), axis=1)).squeeze(1)"
      ],
      "execution_count": null,
      "outputs": []
    },
    {
      "cell_type": "code",
      "metadata": {
        "id": "hEu6TWBl3Fhf",
        "colab_type": "code",
        "colab": {}
      },
      "source": [
        "# Your code goes here\n",
        "\n",
        "class Simple_NN_L1(object):\n",
        "    \n",
        "    def __init__(self, input_size, output_size):\n",
        "        self.linear1 = nn_Linear(input_size, output_size)\n",
        "       \n",
        "        \n",
        "    def forward(self, X):\n",
        "        self.X = X\n",
        "        logits = self.linear1.forward(self.X)\n",
        "        return logits\n",
        "    \n",
        "    def backward(self, gradOutput):\n",
        "        self.linear1.backward(self.X, gradOutput)\n",
        "    \n",
        "    def update(self, lr):\n",
        "        self.linear1.weight = self.linear1.weight - lr * (self.linear1.gradWeight)\n",
        "        self.linear1.bias = self.linear1.bias - lr * (self.linear1.gradBias)\n",
        "       \n",
        "    def train(self, X_train, y_train, loss_criterion=nn_CECriterionWithLogits(), \n",
        "              lr=1e-5, n_iter=1500, batch_size=200):\n",
        "        loss_hist = []\n",
        "\n",
        "        for i in range(n_iter):\n",
        "            batch_indices = np.random.choice(len(X_train), batch_size)\n",
        "            X_batch = X_train[batch_indices]\n",
        "            y_batch = y_train[batch_indices]\n",
        "            \n",
        "            logits = self.forward(X_batch)\n",
        "            loss = loss_criterion.forward(logits, y_batch)\n",
        "            loss_grad = loss_criterion.backward(y_batch)\n",
        "            self.backward(loss_grad)\n",
        "            self.update(lr)\n",
        "\n",
        "            if (i + 1) % 100 == 0:\n",
        "                print(f'Iter {i+1}/{n_iter} - loss: {loss} ')\n",
        "            loss_hist.append(loss)\n",
        "        return loss_hist\n",
        "    \n",
        "    def predict(self, X):\n",
        "        return np.asarray(np.argmax(softmax(self.forward(X)), axis=1)).squeeze(1)"
      ],
      "execution_count": null,
      "outputs": []
    },
    {
      "cell_type": "code",
      "metadata": {
        "id": "yIm1KDoT3Fhg",
        "colab_type": "code",
        "colab": {},
        "outputId": "5542fb10-e665-4aaf-bbc9-1494f3cdcc68"
      },
      "source": [
        "# NN with 1 layers\n",
        "\n",
        "model1 = Simple_NN_L1(X_train.shape[1], np.max(y_train)+1)\n",
        "loss_hist = model1.train(X_train, y_train, lr=1e-4)\n",
        "predict = model1.predict(X_train)\n",
        "print('The training accuracy is given by : %f' % (get_acc(predict, y_train)))\n",
        "predict = model1.predict(X_val)\n",
        "print('The val accuracy is given by : %f' % (get_acc(predict, y_val)))\n",
        "predict = model1.predict(X_test)\n",
        "print('The test accuracy is given by : %f' % (get_acc(predict, y_test)))"
      ],
      "execution_count": null,
      "outputs": [
        {
          "output_type": "stream",
          "text": [
            "Iter 100/1500 - loss: 22.738775437452272 \n",
            "Iter 200/1500 - loss: 32.08704068191942 \n",
            "Iter 300/1500 - loss: 23.871890062138835 \n",
            "Iter 400/1500 - loss: 37.993978801118175 \n",
            "Iter 500/1500 - loss: 22.306164532859086 \n",
            "Iter 600/1500 - loss: 27.17117941949563 \n",
            "Iter 700/1500 - loss: 26.106763770967582 \n",
            "Iter 800/1500 - loss: 14.181073719506655 \n",
            "Iter 900/1500 - loss: 36.55338398456621 \n",
            "Iter 1000/1500 - loss: 24.105474310967402 \n",
            "Iter 1100/1500 - loss: 26.437776368082723 \n",
            "Iter 1200/1500 - loss: 24.68718809457583 \n",
            "Iter 1300/1500 - loss: 26.740882196957017 \n",
            "Iter 1400/1500 - loss: 28.961251174941616 \n",
            "Iter 1500/1500 - loss: 36.24804505068966 \n",
            "The training accuracy is given by : 29.897959\n",
            "The val accuracy is given by : 29.567797\n",
            "The test accuracy is given by : 25.600000\n"
          ],
          "name": "stdout"
        }
      ]
    },
    {
      "cell_type": "code",
      "metadata": {
        "id": "deEzX0gR3Fhm",
        "colab_type": "code",
        "colab": {},
        "outputId": "5c1da5dc-0310-4a8b-c756-b9e1508ec476"
      },
      "source": [
        "# NN with 2 layers\n",
        "\n",
        "model2 = Simple_NN(X_train.shape[1], np.max(y_train)+1, hidden_state_size=8)\n",
        "n_iter = 1000\n",
        "batch_size = 200\n",
        "loss_hist = model2.train(X_train, y_train, lr=1e-4)\n",
        "predict = model2.predict(X_train)\n",
        "print('The training accuracy is given by : %f' % (get_acc(predict, y_train)))\n",
        "predict = model2.predict(X_val)\n",
        "print('The val accuracy is given by : %f' % (get_acc(predict, y_val)))\n",
        "predict = model2.predict(X_test)\n",
        "print('The test accuracy is given by : %f' % (get_acc(predict, y_test)))"
      ],
      "execution_count": null,
      "outputs": [
        {
          "output_type": "stream",
          "text": [
            "Iter 100/1500 - loss: 2.299672467937875 \n",
            "Iter 200/1500 - loss: 2.276572804416187 \n",
            "Iter 300/1500 - loss: 2.1431525994050635 \n",
            "Iter 400/1500 - loss: 2.177233707642621 \n",
            "Iter 500/1500 - loss: 2.03153081751308 \n",
            "Iter 600/1500 - loss: 1.9997078408538984 \n",
            "Iter 700/1500 - loss: 2.0483071121643026 \n",
            "Iter 800/1500 - loss: 1.9592964414363885 \n",
            "Iter 900/1500 - loss: 1.8143215129630834 \n",
            "Iter 1000/1500 - loss: 1.8316111547782439 \n",
            "Iter 1100/1500 - loss: 1.8199050550117053 \n",
            "Iter 1200/1500 - loss: 1.7326759460293226 \n",
            "Iter 1300/1500 - loss: 1.8108587706612962 \n",
            "Iter 1400/1500 - loss: 1.8210242571482333 \n",
            "Iter 1500/1500 - loss: 1.8377011425913252 \n",
            "The training accuracy is given by : 34.624490\n",
            "The val accuracy is given by : 34.313559\n",
            "The test accuracy is given by : 33.000000\n"
          ],
          "name": "stdout"
        }
      ]
    },
    {
      "cell_type": "code",
      "metadata": {
        "id": "L8rlLnHo3Fhp",
        "colab_type": "code",
        "colab": {},
        "outputId": "9c3a5647-d59e-4ec8-82f1-08a08ca9c288"
      },
      "source": [
        "# NN with 3 layers\n",
        "\n",
        "model3 = Simple_NN_L3(X_train.shape[1], np.max(y_train)+1, hidden_state_size1=8,hidden_state_size2=8)\n",
        "loss_hist = model3.train(X_train, y_train, lr=1e-4)\n",
        "\n",
        "predict = model3.predict(X_train)\n",
        "print('The training accuracy is given by : %f' % (get_acc(predict, y_train)))\n",
        "predict = model3.predict(X_val)\n",
        "print('The val accuracy is given by : %f' % (get_acc(predict, y_val)))\n",
        "predict = model3.predict(X_test)\n",
        "print('The test accuracy is given by : %f' % (get_acc(predict, y_test)))"
      ],
      "execution_count": null,
      "outputs": [
        {
          "output_type": "stream",
          "text": [
            "Iter 100/1500 - loss: 2.3026178904010997 \n",
            "Iter 200/1500 - loss: 2.3026437245417686 \n",
            "Iter 300/1500 - loss: 2.302582529568866 \n",
            "Iter 400/1500 - loss: 2.302689565027732 \n",
            "Iter 500/1500 - loss: 2.3026204169730375 \n",
            "Iter 600/1500 - loss: 2.302564578341034 \n",
            "Iter 700/1500 - loss: 2.3025691267203725 \n",
            "Iter 800/1500 - loss: 2.3025392023672455 \n",
            "Iter 900/1500 - loss: 2.302612062528274 \n",
            "Iter 1000/1500 - loss: 2.3026315042703414 \n",
            "Iter 1100/1500 - loss: 2.3026913449279793 \n",
            "Iter 1200/1500 - loss: 2.3025246779775497 \n",
            "Iter 1300/1500 - loss: 2.3026099631071917 \n",
            "Iter 1400/1500 - loss: 2.302555138830874 \n",
            "Iter 1500/1500 - loss: 2.302542393011137 \n",
            "The training accuracy is given by : 10.042857\n",
            "The val accuracy is given by : 9.627119\n",
            "The test accuracy is given by : 10.000000\n"
          ],
          "name": "stdout"
        }
      ]
    },
    {
      "cell_type": "code",
      "metadata": {
        "id": "b7WI_nje3Fhr",
        "colab_type": "code",
        "colab": {},
        "outputId": "291a20c3-aeea-4ebe-98ea-f66c58f112aa"
      },
      "source": [
        "# NN with 4 layers\n",
        "model4 = Simple_NN_L4(X_train.shape[1], np.max(y_train)+1, hidden_state_size1=8,hidden_state_size2=8,hidden_state_size3=8)\n",
        "loss_hist = model4.train(X_train, y_train, lr=1e-4)\n",
        "predict = model4.predict(X_train)\n",
        "print('The training accuracy is given by : %f' % (get_acc(predict, y_train)))\n",
        "predict = model4.predict(X_val)\n",
        "print('The val accuracy is given by : %f' % (get_acc(predict, y_val)))\n",
        "predict = model4.predict(X_test)\n",
        "print('The test accuracy is given by : %f' % (get_acc(predict, y_test)))"
      ],
      "execution_count": null,
      "outputs": [
        {
          "output_type": "stream",
          "text": [
            "Iter 100/1500 - loss: 2.3024872730192523 \n",
            "Iter 200/1500 - loss: 2.302577568659605 \n",
            "Iter 300/1500 - loss: 2.3026584466446547 \n",
            "Iter 400/1500 - loss: 2.302705721176615 \n",
            "Iter 500/1500 - loss: 2.302579496646442 \n",
            "Iter 600/1500 - loss: 2.302588591602511 \n",
            "Iter 700/1500 - loss: 2.3027033337300815 \n",
            "Iter 800/1500 - loss: 2.3024302865185704 \n",
            "Iter 900/1500 - loss: 2.3025496476527105 \n",
            "Iter 1000/1500 - loss: 2.302694060675735 \n",
            "Iter 1100/1500 - loss: 2.3026255315052513 \n",
            "Iter 1200/1500 - loss: 2.3025350843127943 \n",
            "Iter 1300/1500 - loss: 2.3024848354582956 \n",
            "Iter 1400/1500 - loss: 2.302562690800563 \n",
            "Iter 1500/1500 - loss: 2.302521810165257 \n",
            "The training accuracy is given by : 9.995918\n",
            "The val accuracy is given by : 9.805085\n",
            "The test accuracy is given by : 11.200000\n"
          ],
          "name": "stdout"
        }
      ]
    },
    {
      "cell_type": "markdown",
      "metadata": {
        "id": "-ejJItG_3Fhu",
        "colab_type": "text"
      },
      "source": [
        "### Section 3.4.2. Different numbers of hidden state size [10 pts]\n",
        "Try 4 different numbers of hidden state size, and plot the accuracy as a function of the number you have tried. We recommend you to test numbers like 8, 16, 32, 64, 128, 256. Plot the training/validation/test accuracy as a function of the hidden state size your picked."
      ]
    },
    {
      "cell_type": "code",
      "metadata": {
        "id": "sFvdqRfb3Fhu",
        "colab_type": "code",
        "colab": {},
        "outputId": "405915c1-e04e-4bf7-b198-677e33965e6f"
      },
      "source": [
        "# Your code goes here\n",
        "\n",
        "size=[8,16,32,64]\n",
        "act_train=[]\n",
        "act_val=[]\n",
        "act_test=[]\n",
        "for i in range(4):\n",
        "    model2 = Simple_NN(X_train.shape[1], np.max(y_train)+1, hidden_state_size=size[i])\n",
        "    loss_hist = model2.train(X_train, y_train, lr=1e-4,n_iter=1000)\n",
        "    act_train.append(get_acc(model2.predict(X_train), y_train))\n",
        "    act_val.append(get_acc(model2.predict(X_val), y_val))\n",
        "    act_test.append(get_acc(model2.predict(X_test), y_test))\n",
        "\n",
        "lines = plt.plot(size, act_train, size, act_val, size, act_test)\n",
        "plt.setp(lines[0], linewidth=2)\n",
        "plt.setp(lines[1], linewidth=2)\n",
        "plt.setp(lines[2], markersize=2)\n",
        "\n",
        "plt.legend(('train', 'validate', 'test'),\n",
        "           loc='upper left')\n",
        "plt.title('Accuracy dependence of hidden size in 2 layer NN')\n",
        "plt.show()\n"
      ],
      "execution_count": null,
      "outputs": [
        {
          "output_type": "stream",
          "text": [
            "Iter 100/1000 - loss: 2.297909915475829 \n",
            "Iter 200/1000 - loss: 2.2388561545909136 \n",
            "Iter 300/1000 - loss: 2.200816439783287 \n",
            "Iter 400/1000 - loss: 2.123969371312488 \n",
            "Iter 500/1000 - loss: 2.0676754900122853 \n",
            "Iter 600/1000 - loss: 1.9499414776583632 \n",
            "Iter 700/1000 - loss: 1.978209138503807 \n",
            "Iter 800/1000 - loss: 1.9090258046484945 \n",
            "Iter 900/1000 - loss: 1.8898132298521169 \n",
            "Iter 1000/1000 - loss: 1.9480229640375528 \n",
            "Iter 100/1000 - loss: 2.2855550397233957 \n",
            "Iter 200/1000 - loss: 2.1971655470350204 \n",
            "Iter 300/1000 - loss: 2.1634780348186924 \n",
            "Iter 400/1000 - loss: 2.0667705313784137 \n",
            "Iter 500/1000 - loss: 2.0156848016798534 \n",
            "Iter 600/1000 - loss: 2.034199463031084 \n",
            "Iter 700/1000 - loss: 2.0711074398880824 \n",
            "Iter 800/1000 - loss: 1.9171429818946921 \n",
            "Iter 900/1000 - loss: 2.025497526988913 \n",
            "Iter 1000/1000 - loss: 1.8830123056237182 \n",
            "Iter 100/1000 - loss: 2.281240547722744 \n",
            "Iter 200/1000 - loss: 2.1878476424980304 \n",
            "Iter 300/1000 - loss: 2.1250964691401584 \n",
            "Iter 400/1000 - loss: 2.0168003734572135 \n",
            "Iter 500/1000 - loss: 2.0589233806208243 \n",
            "Iter 600/1000 - loss: 1.9630004978262137 \n",
            "Iter 700/1000 - loss: 1.8970599740955418 \n",
            "Iter 800/1000 - loss: 1.8450450575249473 \n",
            "Iter 900/1000 - loss: 1.820173003070582 \n",
            "Iter 1000/1000 - loss: 1.8090762205084945 \n",
            "Iter 100/1000 - loss: 2.26177899248997 \n",
            "Iter 200/1000 - loss: 2.1597579710468993 \n",
            "Iter 300/1000 - loss: 2.1238891072843344 \n",
            "Iter 400/1000 - loss: 2.0094169696298008 \n",
            "Iter 500/1000 - loss: 1.9436069617466771 \n",
            "Iter 600/1000 - loss: 1.8977417772815186 \n",
            "Iter 700/1000 - loss: 1.8267023549173116 \n",
            "Iter 800/1000 - loss: 1.8957659613036089 \n",
            "Iter 900/1000 - loss: 1.9647093300549066 \n",
            "Iter 1000/1000 - loss: 1.8215410865861437 \n"
          ],
          "name": "stdout"
        },
        {
          "output_type": "display_data",
          "data": {
            "image/png": "[encoded data removed]",
            "text/plain": [
              "<Figure size 432x288 with 1 Axes>"
            ]
          },
          "metadata": {
            "tags": [],
            "needs_background": "light"
          }
        }
      ]
    },
    {
      "cell_type": "markdown",
      "metadata": {
        "id": "etNIzica3Fhw",
        "colab_type": "text"
      },
      "source": [
        "### Section 3.4.3. Different activation functions [10 pts]\n",
        "Try both ReLU and Sigmoid activation, and report the training/validation/test accuracy."
      ]
    },
    {
      "cell_type": "code",
      "metadata": {
        "id": "YgToIrEP3Fhw",
        "colab_type": "code",
        "colab": {},
        "outputId": "3c51d74d-5222-4c8a-a5ac-439ef857f6fc"
      },
      "source": [
        "# Your code goes here\n",
        "\n",
        "class nn_Sigmoid:\n",
        "    def forward(self, x):\n",
        "        return 1 / (1 + np.exp(-x))\n",
        "    \n",
        "    def backward(self, x, gradOutput):\n",
        "        # It is usually a good idea to use gv from the forward pass and not recompute it again here.\n",
        "        gv = 1 / (1 + np.exp(-x))\n",
        "        return np.multiply(np.multiply(gv, (1 - gv)), gradOutput)\n",
        "\n",
        "class Simple_NN_S(Simple_NN):\n",
        "    def __init__(self, input_size, output_size, hidden_state_size=64):\n",
        "        super(Simple_NN_S, self).__init__(input_size, output_size, hidden_state_size=64)\n",
        "        self.activation = nn_Sigmoid()\n",
        "\n",
        "model_relu = Simple_NN(X_train.shape[1],np.max(y_train)+1,hidden_state_size=64)\n",
        "loss_relu = model_relu.train(X_train, y_train,lr=1e-4,n_iter=1500)\n",
        "model_sigmoid = Simple_NN_S(X_train.shape[1],np.max(y_train)+1,hidden_state_size=64)\n",
        "loss_sigmoid = model_sigmoid.train(X_train, y_train, lr=1e-4,n_iter=1500)\n",
        "\n",
        "t1=get_acc(model_relu.predict(X_train), y_train)\n",
        "t2=get_acc(model_sigmoid.predict(X_train), y_train)\n",
        "print(\"Train accuracy of Relu:%f and Sigmoid: %f\" %(t1, t2)) \n",
        "t1=get_acc(model_relu.predict(X_val), y_val)\n",
        "t2=get_acc(model_sigmoid.predict(X_val), y_val)\n",
        "print(\"Val accuracy of Relu:%f and Sigmoid: %f\" %(t1, t2)) \n",
        "t1=get_acc(model_relu.predict(X_test), y_test)\n",
        "t2=get_acc(model_sigmoid.predict(X_test), y_test)\n",
        "print(\"Test accuracy of Relu:%f and Sigmoid: %f\" %(t1, t2)) "
      ],
      "execution_count": null,
      "outputs": [
        {
          "output_type": "stream",
          "text": [
            "Iter 100/1500 - loss: 2.2572770581443735 \n",
            "Iter 200/1500 - loss: 2.1352340297469135 \n",
            "Iter 300/1500 - loss: 2.0438733929622446 \n",
            "Iter 400/1500 - loss: 1.967142946884166 \n",
            "Iter 500/1500 - loss: 1.984596331544664 \n",
            "Iter 600/1500 - loss: 1.8108252189283902 \n",
            "Iter 700/1500 - loss: 1.8718559515348745 \n",
            "Iter 800/1500 - loss: 1.8161084096326465 \n",
            "Iter 900/1500 - loss: 1.7956027606879945 \n",
            "Iter 1000/1500 - loss: 1.8078966462591484 \n",
            "Iter 1100/1500 - loss: 1.7697760196691246 \n",
            "Iter 1200/1500 - loss: 1.779338519404024 \n",
            "Iter 1300/1500 - loss: 1.8642923286784032 \n",
            "Iter 1400/1500 - loss: 1.7180513612025698 \n",
            "Iter 1500/1500 - loss: 1.7111123660443655 \n",
            "Iter 100/1500 - loss: 2.300908812897937 \n",
            "Iter 200/1500 - loss: 2.2991983987483513 \n",
            "Iter 300/1500 - loss: 2.2993819196433396 \n",
            "Iter 400/1500 - loss: 2.297890898387958 \n",
            "Iter 500/1500 - loss: 2.295294301651075 \n",
            "Iter 600/1500 - loss: 2.2943020480689977 \n",
            "Iter 700/1500 - loss: 2.292141284637336 \n",
            "Iter 800/1500 - loss: 2.290957731288084 \n",
            "Iter 900/1500 - loss: 2.2870543542342534 \n",
            "Iter 1000/1500 - loss: 2.28533172817948 \n",
            "Iter 1100/1500 - loss: 2.285252568269126 \n",
            "Iter 1200/1500 - loss: 2.28355564871479 \n",
            "Iter 1300/1500 - loss: 2.2824202427629254 \n",
            "Iter 1400/1500 - loss: 2.2771758703489007 \n",
            "Iter 1500/1500 - loss: 2.2711247155342233 \n",
            "Train accuracy of Relu:39.500000 and Sigmoid: 22.646939\n",
            "Val accuracy of Relu:38.813559 and Sigmoid: 22.889831\n",
            "Test accuracy of Relu:39.500000 and Sigmoid: 24.500000\n"
          ],
          "name": "stdout"
        }
      ]
    },
    {
      "cell_type": "markdown",
      "metadata": {
        "id": "cA9UrTIA3Fhy",
        "colab_type": "text"
      },
      "source": [
        "### Section 3.4.4. What did you see? [5 pts]\n",
        "Desribe what you see in the experiments above in 5-6 sentences."
      ]
    },
    {
      "cell_type": "code",
      "metadata": {
        "id": "HRN6QLnx3Fhz",
        "colab_type": "code",
        "colab": {},
        "outputId": "8ed0b2f0-db1c-47e8-c6ed-af960e650cc0"
      },
      "source": [
        "# Your code goes here\n",
        "import os\n",
        "print(os.environ['HOME'])"
      ],
      "execution_count": null,
      "outputs": [
        {
          "output_type": "stream",
          "text": [
            "/Users/weicui\n"
          ],
          "name": "stdout"
        }
      ]
    },
    {
      "cell_type": "markdown",
      "metadata": {
        "id": "Pz7Qd3pv3Fh0",
        "colab_type": "text"
      },
      "source": [
        "By doing these experiments, I notice that \n",
        "1. We find the accuracy decreases when we incresing number of layers. \n",
        "2. The accuracy increases expotentially when increasing hidden state size. We can find it from the plot above. \n",
        "3. The accuracy of NN with ReLU is higher than NN with Sigmoid as activiation function. In our experiment, the accuracy of test dataset is 39.6% for ReLu while only 23.8% for Sigmoid.\n"
      ]
    }
  ]
}